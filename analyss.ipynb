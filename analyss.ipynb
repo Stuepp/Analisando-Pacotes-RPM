{
 "cells": [
  {
   "cell_type": "markdown",
   "id": "cb4ead72",
   "metadata": {},
   "source": [
    "# Importação das bibliotecas"
   ]
  },
  {
   "cell_type": "code",
   "execution_count": 8,
   "id": "f85a67d0",
   "metadata": {},
   "outputs": [],
   "source": [
    "import pandas as pd\n",
    "import plotly.express as px"
   ]
  },
  {
   "cell_type": "markdown",
   "id": "07c6a3f3",
   "metadata": {},
   "source": [
    "# Importação dos dados"
   ]
  },
  {
   "cell_type": "code",
   "execution_count": 3,
   "id": "ccf7f59c",
   "metadata": {},
   "outputs": [],
   "source": [
    "df = pd.read_csv('rpm_all_info.csv')"
   ]
  },
  {
   "cell_type": "markdown",
   "id": "7aad1584",
   "metadata": {},
   "source": [
    "# Dos pacotes instalados."
   ]
  },
  {
   "cell_type": "markdown",
   "id": "aabb5090",
   "metadata": {},
   "source": [
    "## Quantos pacotes são assinados, quantos não são e total de pacotes?"
   ]
  },
  {
   "cell_type": "code",
   "execution_count": 8,
   "id": "d7e63b11",
   "metadata": {},
   "outputs": [
    {
     "name": "stdout",
     "output_type": "stream",
     "text": [
      "Pacotes assinados: 4\n",
      "Pacotes não assinados 2022\n",
      "Total de pacotes: 2026\n"
     ]
    }
   ],
   "source": [
    "row_condition = df.loc[:, 'Signature'].str.contains('none')\n",
    "pacotes_assinados = df.loc[row_condition, 'Signature'].count()\n",
    "pacotes_nao_assinados = df.loc[~row_condition, 'Signature'].count()\n",
    "\n",
    "print(f'Pacotes assinados: {pacotes_assinados}\\nPacotes não assinados {pacotes_nao_assinados}')\n",
    "print(f'Total de pacotes: {df.loc[:,'Signature'].count()}')"
   ]
  },
  {
   "cell_type": "markdown",
   "id": "02a5a8bf",
   "metadata": {},
   "source": [
    "## Quais são os algoritmos criptográficos utilizados e seus tamanhos?\n",
    "### Na assinatura"
   ]
  },
  {
   "cell_type": "code",
   "execution_count": 32,
   "id": "34948706",
   "metadata": {},
   "outputs": [
    {
     "name": "stdout",
     "output_type": "stream",
     "text": [
      "Os algoritmos utilizados, junto com seu tamanho são:  ['RSA/SHA256' '(none)' 'RSA/SHA512']\n",
      "None indica que não houve uma assinatura\n"
     ]
    }
   ],
   "source": [
    "df['Signature_Alg_Size'] = df.loc[:,'Signature'].str.split(',').str[0]\n",
    "\n",
    "print(f'Os algoritmos utilizados, junto com seu tamanho são:  {df['Signature_Alg_Size'].unique()}')\n",
    "print('None indica que não houve uma assinatura')"
   ]
  },
  {
   "cell_type": "markdown",
   "id": "117c5021",
   "metadata": {},
   "source": [
    "## Quando os pacotes foram assinados?"
   ]
  },
  {
   "cell_type": "code",
   "execution_count": 10,
   "id": "f4cc80c9",
   "metadata": {},
   "outputs": [
    {
     "data": {
      "application/vnd.plotly.v1+json": {
       "config": {
        "plotlyServerURL": "https://plot.ly"
       },
       "data": [
        {
         "hovertemplate": "Sig_Data=%{x}<br>Name=%{y}<extra></extra>",
         "legendgroup": "",
         "marker": {
          "color": "#636efa",
          "pattern": {
           "shape": ""
          }
         },
         "name": "",
         "orientation": "v",
         "showlegend": false,
         "textposition": "auto",
         "type": "bar",
         "x": [
          " Fri 01 Mar 2024 03:22:46 PM -03",
          " Fri 01 Mar 2024 12:28:48 PM -03",
          " Fri 01 Mar 2024 12:28:49 PM -03",
          " Fri 01 Nov 2024 04:40:11 PM -03",
          " Fri 01 Nov 2024 04:41:21 PM -03",
          " Fri 01 Nov 2024 04:41:22 PM -03",
          " Fri 01 Nov 2024 04:41:24 PM -03",
          " Fri 01 Nov 2024 04:41:29 PM -03",
          " Fri 01 Nov 2024 04:41:32 PM -03",
          " Fri 01 Nov 2024 04:41:33 PM -03",
          " Fri 01 Nov 2024 04:41:34 PM -03",
          " Fri 01 Nov 2024 04:41:37 PM -03",
          " Fri 01 Nov 2024 04:41:38 PM -03",
          " Fri 01 Nov 2024 04:41:41 PM -03",
          " Fri 02 Aug 2024 11:53:00 AM -03",
          " Fri 02 Aug 2024 11:53:02 AM -03",
          " Fri 02 Aug 2024 11:55:10 AM -03",
          " Fri 02 Aug 2024 11:55:13 AM -03",
          " Fri 02 Feb 2024 02:41:22 PM -03",
          " Fri 02 Feb 2024 05:41:48 PM -03",
          " Fri 02 Feb 2024 11:10:53 AM -03",
          " Fri 02 May 2025 01:47:13 PM -03",
          " Fri 02 May 2025 01:47:14 PM -03",
          " Fri 02 May 2025 01:47:36 PM -03",
          " Fri 02 May 2025 01:49:00 PM -03",
          " Fri 02 May 2025 01:49:03 PM -03",
          " Fri 02 May 2025 01:49:06 PM -03",
          " Fri 03 May 2024 02:23:58 PM -03",
          " Fri 03 May 2024 07:27:56 AM -03",
          " Fri 03 May 2024 07:27:57 AM -03",
          " Fri 03 May 2024 08:57:43 AM -03",
          " Fri 04 Apr 2025 05:24:23 AM -03",
          " Fri 04 Apr 2025 05:24:24 AM -03",
          " Fri 04 Apr 2025 07:04:13 AM -03",
          " Fri 04 Apr 2025 09:49:50 AM -03",
          " Fri 04 Apr 2025 09:49:57 AM -03",
          " Fri 04 Apr 2025 09:50:31 AM -03",
          " Fri 04 Apr 2025 09:50:39 AM -03",
          " Fri 04 Apr 2025 09:50:42 AM -03",
          " Fri 04 Apr 2025 10:14:31 AM -03",
          " Fri 04 Apr 2025 10:14:32 AM -03",
          " Fri 04 Apr 2025 10:25:01 AM -03",
          " Fri 04 Oct 2024 08:02:31 AM -03",
          " Fri 05 Apr 2024 07:42:40 AM -03",
          " Fri 05 Apr 2024 11:42:33 PM -03",
          " Fri 05 Jul 2024 06:43:18 AM -03",
          " Fri 05 Jul 2024 06:43:19 AM -03",
          " Fri 05 Jul 2024 07:10:40 AM -03",
          " Fri 06 Sep 2024 05:11:59 PM -03",
          " Fri 06 Sep 2024 11:21:13 AM -03",
          " Fri 07 Feb 2025 07:09:02 AM -03",
          " Fri 07 Jun 2024 11:38:59 AM -03",
          " Fri 07 Jun 2024 12:19:07 PM -03",
          " Fri 07 Jun 2024 12:20:09 PM -03",
          " Fri 07 Jun 2024 12:58:15 PM -03",
          " Fri 07 Mar 2025 03:29:18 AM -03",
          " Fri 07 Mar 2025 03:29:49 PM -03",
          " Fri 07 Mar 2025 03:29:50 PM -03",
          " Fri 07 Mar 2025 03:29:51 PM -03",
          " Fri 07 Mar 2025 04:59:14 PM -03",
          " Fri 07 Mar 2025 04:59:15 PM -03",
          " Fri 07 Mar 2025 04:59:16 PM -03",
          " Fri 07 Mar 2025 04:59:21 PM -03",
          " Fri 08 Nov 2024 07:09:48 PM -03",
          " Fri 08 Nov 2024 07:48:49 PM -03",
          " Fri 09 Feb 2024 02:45:51 PM -03",
          " Fri 09 Feb 2024 02:45:52 PM -03",
          " Fri 09 Feb 2024 02:45:53 PM -03",
          " Fri 09 Feb 2024 02:45:54 PM -03",
          " Fri 09 Feb 2024 03:06:09 AM -03",
          " Fri 09 Feb 2024 03:25:24 PM -03",
          " Fri 09 Feb 2024 11:21:04 AM -03",
          " Fri 09 Feb 2024 11:58:35 AM -03",
          " Fri 09 Feb 2024 12:50:42 PM -03",
          " Fri 09 Feb 2024 12:50:43 PM -03",
          " Fri 10 Jan 2025 07:45:18 AM -03",
          " Fri 11 Apr 2025 02:29:16 AM -03",
          " Fri 11 Apr 2025 09:28:32 AM -03",
          " Fri 11 Apr 2025 10:28:04 AM -03",
          " Fri 11 Oct 2024 04:07:42 PM -03",
          " Fri 11 Oct 2024 04:07:43 PM -03",
          " Fri 11 Oct 2024 06:15:11 AM -03",
          " Fri 11 Oct 2024 06:15:12 AM -03",
          " Fri 11 Oct 2024 08:29:03 AM -03",
          " Fri 11 Oct 2024 08:29:04 AM -03",
          " Fri 11 Oct 2024 08:29:05 AM -03",
          " Fri 11 Oct 2024 12:01:27 PM -03",
          " Fri 11 Oct 2024 12:01:39 PM -03",
          " Fri 11 Oct 2024 12:02:52 PM -03",
          " Fri 12 Jul 2024 03:44:02 AM -03",
          " Fri 12 Jul 2024 03:44:03 AM -03",
          " Fri 13 Dec 2024 10:39:26 AM -03",
          " Fri 13 Dec 2024 11:49:50 AM -03",
          " Fri 13 Sep 2024 07:29:46 PM -03",
          " Fri 13 Sep 2024 10:33:21 AM -03",
          " Fri 13 Sep 2024 10:33:25 AM -03",
          " Fri 13 Sep 2024 10:33:33 AM -03",
          " Fri 13 Sep 2024 10:33:35 AM -03",
          " Fri 13 Sep 2024 10:33:36 AM -03",
          " Fri 14 Feb 2025 05:40:48 PM -03",
          " Fri 14 Feb 2025 09:54:23 AM -03",
          " Fri 14 Feb 2025 12:35:59 PM -03",
          " Fri 14 Feb 2025 12:55:53 PM -03",
          " Fri 14 Feb 2025 12:55:56 PM -03",
          " Fri 14 Feb 2025 12:55:57 PM -03",
          " Fri 14 Feb 2025 12:55:58 PM -03",
          " Fri 14 Mar 2025 08:00:48 AM -03",
          " Fri 15 Nov 2024 10:53:25 AM -03",
          " Fri 15 Nov 2024 10:56:24 AM -03",
          " Fri 15 Nov 2024 10:56:26 AM -03",
          " Fri 15 Nov 2024 10:56:29 AM -03",
          " Fri 15 Nov 2024 10:56:30 AM -03",
          " Fri 16 Aug 2024 09:58:23 AM -03",
          " Fri 16 Aug 2024 12:53:52 AM -03",
          " Fri 18 Apr 2025 05:26:15 PM -03",
          " Fri 18 Apr 2025 07:13:13 AM -03",
          " Fri 18 Apr 2025 07:13:14 AM -03",
          " Fri 19 Apr 2024 02:46:21 PM -03",
          " Fri 19 Apr 2024 02:46:22 PM -03",
          " Fri 19 Apr 2024 05:48:35 PM -03",
          " Fri 19 Jan 2024 01:27:59 PM -03",
          " Fri 19 Jan 2024 11:27:59 AM -03",
          " Fri 19 Jan 2024 11:28:00 AM -03",
          " Fri 19 Jan 2024 11:28:02 AM -03",
          " Fri 19 Jan 2024 11:28:04 AM -03",
          " Fri 19 Jan 2024 11:28:07 AM -03",
          " Fri 19 Jul 2024 12:25:30 PM -03",
          " Fri 20 Sep 2024 05:17:37 AM -03",
          " Fri 21 Mar 2025 02:03:49 PM -03",
          " Fri 21 Mar 2025 02:03:50 PM -03",
          " Fri 21 Mar 2025 09:35:51 PM -03",
          " Fri 21 Mar 2025 09:40:10 AM -03",
          " Fri 23 Aug 2024 06:42:23 AM -03",
          " Fri 23 Aug 2024 08:04:06 AM -03",
          " Fri 23 Feb 2024 04:54:00 PM -03",
          " Fri 24 Jan 2025 09:24:26 PM -03",
          " Fri 24 Jan 2025 09:50:57 AM -03",
          " Fri 24 May 2024 09:06:10 AM -03",
          " Fri 24 May 2024 09:10:40 AM -03",
          " Fri 24 May 2024 09:16:37 AM -03",
          " Fri 25 Apr 2025 10:45:29 AM -03",
          " Fri 26 Jan 2024 01:10:35 AM -03",
          " Fri 26 Jan 2024 01:26:05 PM -03",
          " Fri 26 Jan 2024 01:26:10 PM -03",
          " Fri 26 Jan 2024 01:36:59 PM -03",
          " Fri 26 Jan 2024 01:44:05 PM -03",
          " Fri 26 Jan 2024 01:48:12 PM -03",
          " Fri 26 Jan 2024 01:52:53 PM -03",
          " Fri 26 Jan 2024 01:52:54 PM -03",
          " Fri 26 Jan 2024 01:53:34 PM -03",
          " Fri 26 Jan 2024 01:53:49 PM -03",
          " Fri 26 Jan 2024 01:56:00 PM -03",
          " Fri 26 Jan 2024 02:15:54 PM -03",
          " Fri 26 Jan 2024 02:28:28 AM -03",
          " Fri 26 Jan 2024 02:37:36 AM -03",
          " Fri 26 Jan 2024 02:53:18 AM -03",
          " Fri 26 Jan 2024 03:36:48 AM -03",
          " Fri 26 Jan 2024 03:38:29 AM -03",
          " Fri 26 Jan 2024 03:43:05 AM -03",
          " Fri 26 Jan 2024 03:50:56 AM -03",
          " Fri 26 Jan 2024 03:50:57 AM -03",
          " Fri 26 Jan 2024 04:35:17 AM -03",
          " Fri 26 Jan 2024 04:55:47 AM -03",
          " Fri 26 Jan 2024 04:55:47 PM -03",
          " Fri 26 Jan 2024 04:56:01 AM -03",
          " Fri 26 Jan 2024 04:58:38 AM -03",
          " Fri 26 Jan 2024 05:10:25 AM -03",
          " Fri 26 Jan 2024 05:12:11 AM -03",
          " Fri 26 Jan 2024 05:22:49 AM -03",
          " Fri 26 Jan 2024 05:33:22 AM -03",
          " Fri 26 Jan 2024 06:36:06 AM -03",
          " Fri 26 Jan 2024 06:56:42 AM -03",
          " Fri 26 Jan 2024 07:03:24 AM -03",
          " Fri 26 Jan 2024 07:16:11 AM -03",
          " Fri 26 Jan 2024 07:56:23 AM -03",
          " Fri 26 Jan 2024 07:57:27 AM -03",
          " Fri 26 Jan 2024 08:00:38 AM -03",
          " Fri 26 Jan 2024 08:02:25 AM -03",
          " Fri 26 Jan 2024 08:18:08 AM -03",
          " Fri 26 Jan 2024 08:38:13 AM -03",
          " Fri 26 Jan 2024 08:46:59 AM -03",
          " Fri 26 Jan 2024 09:36:35 PM -03",
          " Fri 26 Jan 2024 11:08:21 AM -03",
          " Fri 26 Jan 2024 11:12:23 PM -03",
          " Fri 26 Jan 2024 11:46:02 PM -03",
          " Fri 26 Jan 2024 11:46:03 PM -03",
          " Fri 26 Jan 2024 12:02:17 PM -03",
          " Fri 26 Jan 2024 12:06:09 AM -03",
          " Fri 26 Jan 2024 12:23:17 AM -03",
          " Fri 26 Jan 2024 12:25:33 AM -03",
          " Fri 26 Jan 2024 12:33:03 AM -03",
          " Fri 26 Jul 2024 02:16:12 PM -03",
          " Fri 26 Jul 2024 02:36:50 PM -03",
          " Fri 26 Jul 2024 11:15:34 AM -03",
          " Fri 27 Dec 2024 11:30:18 AM -03",
          " Fri 27 Sep 2024 02:02:50 PM -03",
          " Fri 27 Sep 2024 02:05:15 PM -03",
          " Fri 27 Sep 2024 10:37:35 AM -03",
          " Fri 27 Sep 2024 11:00:06 AM -03",
          " Fri 28 Feb 2025 01:27:41 PM -03",
          " Fri 28 Feb 2025 01:27:42 PM -03",
          " Fri 28 Feb 2025 10:00:23 AM -03",
          " Fri 28 Feb 2025 10:00:24 AM -03",
          " Fri 28 Feb 2025 10:00:25 AM -03",
          " Fri 28 Feb 2025 10:00:26 AM -03",
          " Fri 28 Feb 2025 10:00:29 AM -03",
          " Fri 28 Mar 2025 04:30:44 PM -03",
          " Fri 28 Mar 2025 07:10:16 AM -03",
          " Fri 28 Mar 2025 07:10:17 AM -03",
          " Fri 28 Mar 2025 07:14:18 AM -03",
          " Fri 29 Nov 2024 10:49:35 AM -03",
          " Mon 01 Apr 2024 05:55:59 PM -03",
          " Mon 02 Dec 2024 09:30:15 AM -03",
          " Mon 02 Sep 2024 06:02:45 PM -03",
          " Mon 03 Feb 2025 06:47:11 AM -03",
          " Mon 03 Jun 2024 06:28:24 AM -03",
          " Mon 03 Jun 2024 07:18:24 AM -03",
          " Mon 03 Mar 2025 03:55:48 AM -03",
          " Mon 03 Mar 2025 03:55:49 AM -03",
          " Mon 04 Mar 2024 03:34:19 PM -03",
          " Mon 04 Mar 2024 04:45:25 PM -03",
          " Mon 04 Mar 2024 08:23:36 PM -03",
          " Mon 04 Nov 2024 04:43:53 PM -03",
          " Mon 04 Nov 2024 06:07:11 AM -03",
          " Mon 04 Nov 2024 06:07:12 AM -03",
          " Mon 05 Feb 2024 07:08:24 PM -03",
          " Mon 05 Feb 2024 07:09:52 PM -03",
          " Mon 05 Feb 2024 07:23:07 AM -03",
          " Mon 05 Feb 2024 07:25:10 AM -03",
          " Mon 05 Feb 2024 10:11:02 AM -03",
          " Mon 06 May 2024 03:17:30 PM -03",
          " Mon 06 May 2024 05:42:08 AM -03",
          " Mon 06 May 2024 05:42:09 AM -03",
          " Mon 07 Apr 2025 06:04:00 AM -03",
          " Mon 07 Apr 2025 06:33:07 AM -03",
          " Mon 07 Apr 2025 10:35:33 AM -03",
          " Mon 07 Apr 2025 10:35:39 AM -03",
          " Mon 07 Oct 2024 02:30:22 PM -03",
          " Mon 07 Oct 2024 12:16:43 PM -03",
          " Mon 08 Apr 2024 04:38:26 AM -03",
          " Mon 08 Apr 2024 10:05:52 AM -03",
          " Mon 09 Dec 2024 03:07:33 PM -03",
          " Mon 09 Dec 2024 08:18:52 AM -03",
          " Mon 09 Dec 2024 08:18:53 AM -03",
          " Mon 09 Sep 2024 04:25:17 AM -03",
          " Mon 09 Sep 2024 08:19:19 AM -03",
          " Mon 09 Sep 2024 10:51:21 AM -03",
          " Mon 09 Sep 2024 10:51:22 AM -03",
          " Mon 09 Sep 2024 10:52:48 AM -03",
          " Mon 09 Sep 2024 10:54:13 AM -03",
          " Mon 10 Feb 2025 05:27:02 PM -03",
          " Mon 10 Feb 2025 05:27:03 PM -03",
          " Mon 10 Feb 2025 07:26:12 AM -03",
          " Mon 10 Feb 2025 12:01:08 PM -03",
          " Mon 10 Feb 2025 12:24:09 PM -03",
          " Mon 10 Feb 2025 12:43:51 PM -03",
          " Mon 10 Jun 2024 10:50:59 AM -03",
          " Mon 12 Aug 2024 01:57:43 PM -03",
          " Mon 12 Feb 2024 01:49:21 PM -03",
          " Mon 12 Feb 2024 03:26:32 PM -03",
          " Mon 12 Feb 2024 05:42:25 PM -03",
          " Mon 12 Feb 2024 05:43:01 PM -03",
          " Mon 12 Feb 2024 05:43:11 PM -03",
          " Mon 12 Feb 2024 06:58:11 AM -03",
          " Mon 12 Feb 2024 07:01:28 AM -03",
          " Mon 12 Feb 2024 08:02:39 PM -03",
          " Mon 12 Feb 2024 08:15:17 PM -03",
          " Mon 12 Feb 2024 08:15:18 PM -03",
          " Mon 12 Feb 2024 09:21:39 AM -03",
          " Mon 12 Feb 2024 09:21:40 AM -03",
          " Mon 12 Feb 2024 10:31:31 PM -03",
          " Mon 12 Feb 2024 10:31:32 PM -03",
          " Mon 12 Feb 2024 10:31:34 PM -03",
          " Mon 14 Apr 2025 01:01:22 PM -03",
          " Mon 14 Apr 2025 01:01:23 PM -03",
          " Mon 14 Apr 2025 01:01:24 PM -03",
          " Mon 14 Apr 2025 04:01:28 AM -03",
          " Mon 14 Apr 2025 04:23:42 PM -03",
          " Mon 14 Apr 2025 05:39:58 AM -03",
          " Mon 14 Apr 2025 05:39:59 AM -03",
          " Mon 14 Apr 2025 05:40:00 AM -03",
          " Mon 14 Apr 2025 05:40:01 AM -03",
          " Mon 14 Apr 2025 05:40:02 AM -03",
          " Mon 14 Apr 2025 05:40:03 AM -03",
          " Mon 14 Apr 2025 05:40:04 AM -03",
          " Mon 14 Apr 2025 06:58:15 AM -03",
          " Mon 14 Apr 2025 06:58:16 AM -03",
          " Mon 14 Apr 2025 06:58:17 AM -03",
          " Mon 14 Apr 2025 06:58:18 AM -03",
          " Mon 14 Apr 2025 06:58:19 AM -03",
          " Mon 14 Apr 2025 06:58:20 AM -03",
          " Mon 14 Apr 2025 06:58:21 AM -03",
          " Mon 14 Apr 2025 06:58:22 AM -03",
          " Mon 14 Apr 2025 06:58:23 AM -03",
          " Mon 14 Apr 2025 06:58:24 AM -03",
          " Mon 14 Apr 2025 06:58:25 AM -03",
          " Mon 14 Apr 2025 06:58:26 AM -03",
          " Mon 14 Apr 2025 06:58:27 AM -03",
          " Mon 14 Apr 2025 10:54:50 AM -03",
          " Mon 14 Oct 2024 07:10:09 PM -03",
          " Mon 15 Apr 2024 02:18:20 AM -03",
          " Mon 15 Apr 2024 02:18:22 AM -03",
          " Mon 15 Apr 2024 12:49:14 PM -03",
          " Mon 15 Apr 2024 12:49:15 PM -03",
          " Mon 15 Apr 2024 12:49:16 PM -03",
          " Mon 15 Apr 2024 12:49:17 PM -03",
          " Mon 15 Jul 2024 06:47:39 PM -03",
          " Mon 15 Jul 2024 10:16:23 AM -03",
          " Mon 16 Sep 2024 06:15:27 PM -03",
          " Mon 16 Sep 2024 06:15:28 PM -03",
          " Mon 16 Sep 2024 06:15:35 PM -03",
          " Mon 16 Sep 2024 06:15:42 PM -03",
          " Mon 16 Sep 2024 06:16:03 PM -03",
          " Mon 16 Sep 2024 06:31:39 AM -03",
          " Mon 17 Jun 2024 01:12:26 AM -03",
          " Mon 17 Mar 2025 02:41:28 PM -03",
          " Mon 17 Mar 2025 02:41:29 PM -03",
          " Mon 17 Mar 2025 02:41:30 PM -03",
          " Mon 17 Mar 2025 02:41:31 PM -03",
          " Mon 18 Mar 2024 07:07:09 AM -03",
          " Mon 18 Mar 2024 07:07:11 AM -03",
          " Mon 18 Mar 2024 07:07:13 AM -03",
          " Mon 18 Mar 2024 07:07:15 AM -03",
          " Mon 18 Mar 2024 07:07:16 AM -03",
          " Mon 18 Mar 2024 07:07:17 AM -03",
          " Mon 18 Mar 2024 07:07:18 AM -03",
          " Mon 18 Mar 2024 07:07:19 AM -03",
          " Mon 18 Mar 2024 07:07:20 AM -03",
          " Mon 18 Mar 2024 07:07:21 AM -03",
          " Mon 18 Mar 2024 07:07:22 AM -03",
          " Mon 18 Mar 2024 07:07:23 AM -03",
          " Mon 18 Mar 2024 07:07:25 AM -03",
          " Mon 18 Mar 2024 07:07:26 AM -03",
          " Mon 18 Mar 2024 07:07:27 AM -03",
          " Mon 18 Mar 2024 07:07:28 AM -03",
          " Mon 18 Mar 2024 07:07:29 AM -03",
          " Mon 18 Mar 2024 07:07:30 AM -03",
          " Mon 18 Mar 2024 07:07:31 AM -03",
          " Mon 18 Mar 2024 07:07:38 AM -03",
          " Mon 18 Mar 2024 07:07:39 AM -03",
          " Mon 18 Mar 2024 07:07:42 AM -03",
          " Mon 18 Mar 2024 07:07:43 AM -03",
          " Mon 18 Mar 2024 07:07:45 AM -03",
          " Mon 18 Mar 2024 07:07:46 AM -03",
          " Mon 18 Mar 2024 07:07:50 AM -03",
          " Mon 18 Mar 2024 07:07:51 AM -03",
          " Mon 18 Mar 2024 07:07:52 AM -03",
          " Mon 18 Mar 2024 07:07:53 AM -03",
          " Mon 18 Mar 2024 07:07:54 AM -03",
          " Mon 18 Mar 2024 07:07:59 AM -03",
          " Mon 18 Nov 2024 06:35:40 PM -03",
          " Mon 18 Nov 2024 08:27:09 AM -03",
          " Mon 19 Aug 2024 05:30:23 AM -03",
          " Mon 19 Feb 2024 07:28:10 AM -03",
          " Mon 20 Jan 2025 02:02:40 AM -03",
          " Mon 21 Apr 2025 05:13:43 PM -03",
          " Mon 21 Apr 2025 08:14:04 PM -03",
          " Mon 21 Apr 2025 08:14:08 PM -03",
          " Mon 21 Apr 2025 08:45:18 PM -03",
          " Mon 21 Oct 2024 05:40:51 PM -03",
          " Mon 21 Oct 2024 05:40:52 PM -03",
          " Mon 22 Apr 2024 02:03:58 PM -03",
          " Mon 22 Apr 2024 06:30:53 AM -03",
          " Mon 22 Jan 2024 06:22:07 PM -03",
          " Mon 22 Jan 2024 06:22:08 PM -03",
          " Mon 22 Jan 2024 06:25:23 PM -03",
          " Mon 22 Jan 2024 06:25:24 PM -03",
          " Mon 22 Jan 2024 06:25:43 PM -03",
          " Mon 22 Jan 2024 06:28:45 PM -03",
          " Mon 22 Jan 2024 06:28:46 PM -03",
          " Mon 22 Jan 2024 06:29:11 PM -03",
          " Mon 22 Jan 2024 07:38:55 PM -03",
          " Mon 22 Jan 2024 07:43:52 PM -03",
          " Mon 22 Jan 2024 07:44:38 PM -03",
          " Mon 22 Jan 2024 07:46:53 PM -03",
          " Mon 22 Jan 2024 07:47:20 PM -03",
          " Mon 22 Jan 2024 08:17:08 PM -03",
          " Mon 22 Jan 2024 08:35:35 PM -03",
          " Mon 22 Jan 2024 08:58:40 PM -03",
          " Mon 22 Jan 2024 08:58:41 PM -03",
          " Mon 22 Jan 2024 09:12:21 PM -03",
          " Mon 22 Jan 2024 09:13:56 PM -03",
          " Mon 22 Jan 2024 09:17:23 PM -03",
          " Mon 22 Jan 2024 09:23:37 PM -03",
          " Mon 22 Jan 2024 09:53:14 PM -03",
          " Mon 22 Jan 2024 09:57:22 PM -03",
          " Mon 22 Jan 2024 10:08:24 PM -03",
          " Mon 22 Jan 2024 10:08:25 PM -03",
          " Mon 22 Jan 2024 10:25:29 PM -03",
          " Mon 22 Jan 2024 10:25:31 PM -03",
          " Mon 22 Jan 2024 10:33:46 PM -03",
          " Mon 22 Jan 2024 10:39:24 PM -03",
          " Mon 22 Jan 2024 10:41:25 PM -03",
          " Mon 22 Jul 2024 12:34:46 PM -03",
          " Mon 24 Feb 2025 05:53:11 PM -03",
          " Mon 24 Feb 2025 11:27:58 AM -03",
          " Mon 24 Feb 2025 11:49:06 AM -03",
          " Mon 24 Feb 2025 11:49:07 AM -03",
          " Mon 24 Jun 2024 07:05:54 AM -03",
          " Mon 24 Mar 2025 08:11:06 AM -03",
          " Mon 24 Mar 2025 11:43:25 AM -03",
          " Mon 25 Nov 2024 02:31:45 PM -03",
          " Mon 26 Aug 2024 01:43:18 PM -03",
          " Mon 26 Aug 2024 05:16:40 AM -03",
          " Mon 26 Aug 2024 05:16:42 AM -03",
          " Mon 26 Feb 2024 05:16:02 AM -03",
          " Mon 26 Feb 2024 05:43:14 AM -03",
          " Mon 26 Feb 2024 10:49:32 AM -03",
          " Mon 26 Feb 2024 11:10:37 AM -03",
          " Mon 26 Feb 2024 12:52:41 PM -03",
          " Mon 27 Jan 2025 01:51:22 PM -03",
          " Mon 27 Jan 2025 01:51:23 PM -03",
          " Mon 27 Jan 2025 08:22:21 AM -03",
          " Mon 27 May 2024 04:16:35 AM -03",
          " Mon 27 May 2024 11:59:58 AM -03",
          " Mon 29 Apr 2024 03:45:47 PM -03",
          " Mon 29 Jan 2024 03:44:44 AM -03",
          " Mon 29 Jan 2024 05:43:31 PM -03",
          " Mon 29 Jan 2024 06:18:17 PM -03",
          " Mon 29 Jan 2024 06:45:32 PM -03",
          " Mon 29 Jan 2024 07:50:48 AM -03",
          " Mon 29 Jan 2024 07:50:50 AM -03",
          " Mon 29 Jan 2024 08:03:32 AM -03",
          " Mon 29 Jan 2024 08:09:32 AM -03",
          " Mon 29 Jan 2024 08:10:57 AM -03",
          " Mon 29 Jan 2024 08:49:03 AM -03",
          " Mon 29 Jan 2024 09:11:36 AM -03",
          " Mon 29 Jan 2024 11:03:29 AM -03",
          " Mon 29 Jan 2024 11:07:57 AM -03",
          " Mon 29 Jul 2024 11:55:43 AM -03",
          " Mon 31 Mar 2025 12:29:08 PM -03",
          " Sat 01 Jun 2024 02:20:22 AM -03",
          " Sat 02 Mar 2024 07:53:41 AM -03",
          " Sat 02 Mar 2024 07:53:42 AM -03",
          " Sat 02 Mar 2024 07:53:43 AM -03",
          " Sat 02 Mar 2024 07:53:44 AM -03",
          " Sat 02 Mar 2024 07:53:45 AM -03",
          " Sat 02 Mar 2024 07:53:46 AM -03",
          " Sat 02 Mar 2024 07:53:48 AM -03",
          " Sat 02 Mar 2024 07:53:49 AM -03",
          " Sat 04 Jan 2025 06:02:03 PM -03",
          " Sat 04 Jan 2025 06:03:25 PM -03",
          " Sat 05 Oct 2024 08:47:05 AM -03",
          " Sat 05 Oct 2024 09:04:56 AM -03",
          " Sat 06 Apr 2024 09:48:55 AM -03",
          " Sat 06 Jul 2024 05:37:31 AM -03",
          " Sat 08 Feb 2025 08:54:45 AM -03",
          " Sat 08 Feb 2025 08:55:16 AM -03",
          " Sat 08 Feb 2025 08:55:31 AM -03",
          " Sat 08 Feb 2025 08:57:06 AM -03",
          " Sat 08 Feb 2025 09:01:00 AM -03",
          " Sat 08 Feb 2025 09:01:41 AM -03",
          " Sat 10 Aug 2024 03:54:30 PM -03",
          " Sat 15 Jun 2024 07:44:58 PM -03",
          " Sat 15 Mar 2025 09:52:07 AM -03",
          " Sat 18 Jan 2025 04:22:37 PM -03",
          " Sat 19 Apr 2025 07:27:02 AM -03",
          " Sat 20 Apr 2024 05:05:40 PM -03",
          " Sat 20 Jan 2024 08:23:23 PM -03",
          " Sat 20 Jul 2024 12:58:35 AM -03",
          " Sat 21 Dec 2024 06:34:36 AM -03",
          " Sat 21 Dec 2024 11:57:38 AM -03",
          " Sat 21 Dec 2024 11:57:39 AM -03",
          " Sat 23 Mar 2024 06:41:17 AM -03",
          " Sat 23 Mar 2024 06:41:53 AM -03",
          " Sat 23 Mar 2024 06:42:11 AM -03",
          " Sat 23 Mar 2024 06:42:15 AM -03",
          " Sat 23 Mar 2024 06:45:18 AM -03",
          " Sat 23 Mar 2024 06:45:24 AM -03",
          " Sat 23 Mar 2024 06:45:33 AM -03",
          " Sat 23 Mar 2024 06:46:00 AM -03",
          " Sat 23 Mar 2024 06:47:39 AM -03",
          " Sat 23 Mar 2024 06:48:57 AM -03",
          " Sat 23 Mar 2024 06:49:16 AM -03",
          " Sat 23 Mar 2024 06:49:36 AM -03",
          " Sat 23 Mar 2024 06:49:44 AM -03",
          " Sat 23 Mar 2024 06:49:45 AM -03",
          " Sat 23 Mar 2024 06:53:48 AM -03",
          " Sat 25 May 2024 02:57:15 PM -03",
          " Sat 25 May 2024 03:39:14 PM -03",
          " Sat 25 May 2024 05:00:48 PM -03",
          " Sat 27 Jan 2024 01:00:42 PM -03",
          " Sat 27 Jan 2024 01:03:26 AM -03",
          " Sat 27 Jan 2024 01:06:33 PM -03",
          " Sat 27 Jan 2024 01:11:54 PM -03",
          " Sat 27 Jan 2024 01:14:21 PM -03",
          " Sat 27 Jan 2024 01:14:33 PM -03",
          " Sat 27 Jan 2024 01:14:35 PM -03",
          " Sat 27 Jan 2024 01:15:01 AM -03",
          " Sat 27 Jan 2024 01:18:04 AM -03",
          " Sat 27 Jan 2024 01:18:41 AM -03",
          " Sat 27 Jan 2024 01:21:13 PM -03",
          " Sat 27 Jan 2024 01:21:24 PM -03",
          " Sat 27 Jan 2024 01:22:31 PM -03",
          " Sat 27 Jan 2024 01:23:49 PM -03",
          " Sat 27 Jan 2024 01:26:15 PM -03",
          " Sat 27 Jan 2024 01:27:15 PM -03",
          " Sat 27 Jan 2024 01:35:14 AM -03",
          " Sat 27 Jan 2024 01:42:37 AM -03",
          " Sat 27 Jan 2024 02:00:36 AM -03",
          " Sat 27 Jan 2024 02:03:13 AM -03",
          " Sat 27 Jan 2024 02:08:02 AM -03",
          " Sat 27 Jan 2024 02:20:04 AM -03",
          " Sat 27 Jan 2024 02:22:00 AM -03",
          " Sat 27 Jan 2024 02:27:44 AM -03",
          " Sat 27 Jan 2024 02:33:23 AM -03",
          " Sat 27 Jan 2024 02:36:22 AM -03",
          " Sat 27 Jan 2024 02:54:55 AM -03",
          " Sat 27 Jan 2024 03:06:30 AM -03",
          " Sat 27 Jan 2024 03:11:42 AM -03",
          " Sat 27 Jan 2024 03:14:48 AM -03",
          " Sat 27 Jan 2024 03:17:58 AM -03",
          " Sat 27 Jan 2024 03:20:29 AM -03",
          " Sat 27 Jan 2024 03:38:25 AM -03",
          " Sat 27 Jan 2024 03:39:24 AM -03",
          " Sat 27 Jan 2024 03:51:34 AM -03",
          " Sat 27 Jan 2024 03:58:41 AM -03",
          " Sat 27 Jan 2024 04:02:38 AM -03",
          " Sat 27 Jan 2024 04:03:03 AM -03",
          " Sat 27 Jan 2024 04:06:54 AM -03",
          " Sat 27 Jan 2024 04:22:01 AM -03",
          " Sat 27 Jan 2024 04:52:26 AM -03",
          " Sat 27 Jan 2024 04:57:47 AM -03",
          " Sat 27 Jan 2024 05:07:18 AM -03",
          " Sat 27 Jan 2024 05:38:42 AM -03",
          " Sat 27 Jan 2024 05:42:35 AM -03",
          " Sat 27 Jan 2024 06:05:51 AM -03",
          " Sat 27 Jan 2024 06:16:16 AM -03",
          " Sat 27 Jan 2024 06:18:39 AM -03",
          " Sat 27 Jan 2024 06:21:56 AM -03",
          " Sat 27 Jan 2024 06:23:21 AM -03",
          " Sat 27 Jan 2024 06:23:54 AM -03",
          " Sat 27 Jan 2024 06:25:27 AM -03",
          " Sat 27 Jan 2024 06:28:35 AM -03",
          " Sat 27 Jan 2024 06:29:43 AM -03",
          " Sat 27 Jan 2024 06:31:25 AM -03",
          " Sat 27 Jan 2024 06:34:09 AM -03",
          " Sat 27 Jan 2024 06:40:34 AM -03",
          " Sat 27 Jan 2024 06:49:41 AM -03",
          " Sat 27 Jan 2024 06:50:41 AM -03",
          " Sat 27 Jan 2024 06:52:29 AM -03",
          " Sat 27 Jan 2024 07:19:12 AM -03",
          " Sat 27 Jan 2024 07:19:57 AM -03",
          " Sat 27 Jan 2024 07:19:58 AM -03",
          " Sat 27 Jan 2024 07:19:59 AM -03",
          " Sat 27 Jan 2024 07:51:32 AM -03",
          " Sat 27 Jan 2024 08:35:52 AM -03",
          " Sat 27 Jan 2024 10:37:40 AM -03",
          " Sat 27 Jan 2024 10:38:27 AM -03",
          " Sat 27 Jan 2024 12:19:35 AM -03",
          " Sat 27 Jan 2024 12:26:18 AM -03",
          " Sat 27 Jan 2024 12:32:46 AM -03",
          " Sat 27 Jan 2024 12:35:21 PM -03",
          " Sat 27 Jan 2024 12:35:35 PM -03",
          " Sat 27 Jan 2024 12:35:49 PM -03",
          " Sat 27 Jan 2024 12:36:54 PM -03",
          " Sat 27 Jan 2024 12:37:05 PM -03",
          " Sat 27 Jan 2024 12:38:49 PM -03",
          " Sat 27 Jan 2024 12:39:53 PM -03",
          " Sat 27 Jan 2024 12:40:09 PM -03",
          " Sat 27 Jan 2024 12:42:56 PM -03",
          " Sat 27 Jan 2024 12:44:41 PM -03",
          " Sat 27 Jan 2024 12:46:33 AM -03",
          " Sat 27 Jan 2024 12:46:59 PM -03",
          " Sat 27 Jan 2024 12:49:49 PM -03",
          " Sat 27 Jan 2024 12:55:05 PM -03",
          " Sat 27 Jan 2024 12:58:06 PM -03",
          " Sat 27 Jan 2024 12:58:18 PM -03",
          " Sat 27 Jan 2024 12:58:26 PM -03",
          " Sat 29 Mar 2025 08:58:45 PM -03",
          " Sat 29 Mar 2025 08:58:47 PM -03",
          " Sat 31 Aug 2024 10:33:13 PM -03",
          " Sat 31 Aug 2024 10:33:14 PM -03",
          " Sun 01 Sep 2024 11:51:16 AM -03",
          " Sun 01 Sep 2024 11:51:18 AM -03",
          " Sun 01 Sep 2024 11:51:19 AM -03",
          " Sun 01 Sep 2024 11:51:20 AM -03",
          " Sun 01 Sep 2024 11:51:21 AM -03",
          " Sun 02 Jun 2024 05:32:05 AM -03",
          " Sun 02 Jun 2024 05:32:06 AM -03",
          " Sun 02 Jun 2024 05:32:12 PM -03",
          " Sun 02 Mar 2025 01:02:54 PM -03",
          " Sun 02 Mar 2025 10:05:05 AM -03",
          " Sun 02 Mar 2025 10:05:06 AM -03",
          " Sun 02 Mar 2025 10:05:09 AM -03",
          " Sun 02 Mar 2025 10:05:10 AM -03",
          " Sun 02 Mar 2025 10:05:11 AM -03",
          " Sun 02 Mar 2025 10:05:12 AM -03",
          " Sun 02 Mar 2025 10:05:13 AM -03",
          " Sun 02 Mar 2025 10:05:14 AM -03",
          " Sun 02 Mar 2025 10:05:16 AM -03",
          " Sun 02 Mar 2025 10:05:17 AM -03",
          " Sun 02 Mar 2025 10:05:18 AM -03",
          " Sun 02 Mar 2025 10:05:19 AM -03",
          " Sun 02 Mar 2025 10:05:20 AM -03",
          " Sun 02 Mar 2025 10:05:21 AM -03",
          " Sun 02 Mar 2025 10:05:22 AM -03",
          " Sun 03 Mar 2024 02:49:06 PM -03",
          " Sun 03 Nov 2024 06:00:58 PM -03",
          " Sun 04 Feb 2024 01:02:59 PM -03",
          " Sun 05 May 2024 05:15:14 PM -03",
          " Sun 08 Sep 2024 06:55:26 AM -03",
          " Sun 08 Sep 2024 06:56:08 AM -03",
          " Sun 08 Sep 2024 06:56:19 AM -03",
          " Sun 08 Sep 2024 06:57:01 AM -03",
          " Sun 08 Sep 2024 07:01:06 AM -03",
          " Sun 08 Sep 2024 07:06:35 AM -03",
          " Sun 08 Sep 2024 07:09:02 AM -03",
          " Sun 09 Feb 2025 01:55:59 PM -03",
          " Sun 09 Feb 2025 01:57:26 PM -03",
          " Sun 09 Feb 2025 01:58:03 PM -03",
          " Sun 09 Feb 2025 01:58:05 PM -03",
          " Sun 09 Feb 2025 03:17:20 AM -03",
          " Sun 09 Mar 2025 01:03:47 PM -03",
          " Sun 09 Mar 2025 10:10:38 AM -03",
          " Sun 10 Mar 2024 01:47:28 PM -03",
          " Sun 10 Nov 2024 11:06:47 AM -03",
          " Sun 11 Aug 2024 05:11:53 PM -03",
          " Sun 11 Aug 2024 11:15:59 AM -03",
          " Sun 11 Feb 2024 02:54:53 PM -03",
          " Sun 11 Feb 2024 04:42:51 PM -03",
          " Sun 11 Feb 2024 08:43:18 PM -03",
          " Sun 12 May 2024 02:53:53 AM -03",
          " Sun 12 May 2024 02:53:54 AM -03",
          " Sun 12 May 2024 03:05:20 PM -03",
          " Sun 16 Feb 2025 07:28:02 AM -03",
          " Sun 18 Aug 2024 10:25:58 PM -03",
          " Sun 21 Jan 2024 04:28:27 AM -03",
          " Sun 22 Dec 2024 08:06:57 AM -03",
          " Sun 22 Dec 2024 08:07:03 AM -03",
          " Sun 22 Dec 2024 08:07:53 AM -03",
          " Sun 22 Sep 2024 02:45:56 PM -03",
          " Sun 22 Sep 2024 02:45:57 PM -03",
          " Sun 22 Sep 2024 02:45:58 PM -03",
          " Sun 23 Feb 2025 10:38:21 AM -03",
          " Sun 23 Feb 2025 10:38:22 AM -03",
          " Sun 23 Feb 2025 10:38:23 AM -03",
          " Sun 23 Jun 2024 09:06:37 PM -03",
          " Sun 25 Aug 2024 09:40:28 AM -03",
          " Sun 25 Aug 2024 11:04:55 AM -03",
          " Sun 26 Jan 2025 07:45:23 PM -03",
          " Sun 26 Jan 2025 11:36:23 PM -03",
          " Sun 26 Jan 2025 11:36:32 PM -03",
          " Sun 26 Jan 2025 11:36:34 PM -03",
          " Sun 27 Oct 2024 06:31:06 PM -03",
          " Sun 27 Oct 2024 07:18:15 PM -03",
          " Sun 28 Apr 2024 05:17:33 PM -03",
          " Thu 01 Aug 2024 10:12:41 AM -03",
          " Thu 01 Aug 2024 10:12:42 AM -03",
          " Thu 01 Aug 2024 10:12:43 AM -03",
          " Thu 01 Feb 2024 01:12:45 PM -03",
          " Thu 01 Feb 2024 01:12:48 PM -03",
          " Thu 01 Feb 2024 01:28:37 PM -03",
          " Thu 01 Feb 2024 05:54:00 AM -03",
          " Thu 01 Feb 2024 08:27:02 AM -03",
          " Thu 01 Feb 2024 10:19:22 AM -03",
          " Thu 01 Feb 2024 11:19:48 AM -03",
          " Thu 01 Feb 2024 11:19:51 AM -03",
          " Thu 01 Feb 2024 12:28:51 PM -03",
          " Thu 01 May 2025 07:12:35 PM -03",
          " Thu 02 Jan 2025 09:15:06 PM -03",
          " Thu 02 Jan 2025 11:47:27 AM -03",
          " Thu 03 Oct 2024 03:39:21 AM -03",
          " Thu 03 Oct 2024 04:50:36 PM -03",
          " Thu 04 Apr 2024 07:24:21 AM -03",
          " Thu 04 Jul 2024 09:14:28 AM -03",
          " Thu 05 Dec 2024 04:40:39 PM -03",
          " Thu 05 Dec 2024 04:40:41 PM -03",
          " Thu 05 Dec 2024 04:40:42 PM -03",
          " Thu 05 Dec 2024 04:40:43 PM -03",
          " Thu 05 Dec 2024 04:40:44 PM -03",
          " Thu 05 Sep 2024 05:16:47 AM -03",
          " Thu 05 Sep 2024 05:16:48 AM -03",
          " Thu 06 Feb 2025 01:53:55 PM -03",
          " Thu 06 Mar 2025 11:08:50 AM -03",
          " Thu 07 Mar 2024 06:07:49 AM -03",
          " Thu 07 Mar 2024 12:53:07 PM -03",
          " Thu 08 Aug 2024 10:52:25 AM -03",
          " Thu 08 Feb 2024 03:42:58 PM -03",
          " Thu 08 Feb 2024 05:12:03 AM -03",
          " Thu 08 Feb 2024 05:50:09 AM -03",
          " Thu 08 Feb 2024 05:50:12 AM -03",
          " Thu 08 Feb 2024 10:20:37 AM -03",
          " Thu 08 Feb 2024 11:29:44 AM -03",
          " Thu 08 Feb 2024 11:29:45 AM -03",
          " Thu 08 Feb 2024 11:29:46 AM -03",
          " Thu 09 Jan 2025 05:15:10 AM -03",
          " Thu 09 Jan 2025 05:15:11 AM -03",
          " Thu 09 Jan 2025 09:14:19 PM -03",
          " Thu 09 May 2024 03:37:01 PM -03",
          " Thu 09 May 2024 11:33:09 AM -03",
          " Thu 09 May 2024 11:33:10 AM -03",
          " Thu 09 May 2024 12:52:33 PM -03",
          " Thu 10 Apr 2025 07:16:38 AM -03",
          " Thu 10 Apr 2025 07:17:28 AM -03",
          " Thu 10 Apr 2025 07:17:36 AM -03",
          " Thu 10 Apr 2025 07:17:43 AM -03",
          " Thu 10 Apr 2025 07:17:44 AM -03",
          " Thu 10 Apr 2025 07:17:55 AM -03",
          " Thu 10 Apr 2025 11:35:03 AM -03",
          " Thu 10 Oct 2024 12:20:40 PM -03",
          " Thu 11 Apr 2024 10:42:18 AM -03",
          " Thu 11 Jul 2024 09:27:30 AM -03",
          " Thu 11 Jul 2024 12:39:20 PM -03",
          " Thu 12 Dec 2024 04:10:58 PM -03",
          " Thu 12 Dec 2024 12:27:02 AM -03",
          " Thu 12 Sep 2024 03:36:37 PM -03",
          " Thu 12 Sep 2024 05:45:14 PM -03",
          " Thu 12 Sep 2024 05:45:15 PM -03",
          " Thu 13 Feb 2025 08:23:04 AM -03",
          " Thu 13 Feb 2025 08:39:12 AM -03",
          " Thu 13 Feb 2025 09:45:30 AM -03",
          " Thu 13 Feb 2025 09:45:33 AM -03",
          " Thu 13 Mar 2025 04:11:12 PM -03",
          " Thu 13 Mar 2025 04:24:08 PM -03",
          " Thu 15 Feb 2024 09:07:54 AM -03",
          " Thu 16 Jan 2025 11:24:00 PM -03",
          " Thu 16 Jan 2025 11:24:29 AM -03",
          " Thu 16 May 2024 04:24:51 AM -03",
          " Thu 17 Apr 2025 06:17:28 PM -03",
          " Thu 17 Apr 2025 07:25:12 AM -03",
          " Thu 17 Oct 2024 08:29:30 AM -03",
          " Thu 17 Oct 2024 10:19:51 AM -03",
          " Thu 17 Oct 2024 10:19:52 AM -03",
          " Thu 18 Apr 2024 06:54:44 AM -03",
          " Thu 18 Apr 2024 09:25:00 AM -03",
          " Thu 18 Apr 2024 09:31:57 PM -03",
          " Thu 18 Jul 2024 09:04:16 AM -03",
          " Thu 20 Feb 2025 08:03:03 AM -03",
          " Thu 20 Feb 2025 10:09:23 AM -03",
          " Thu 20 Feb 2025 10:09:24 AM -03",
          " Thu 20 Mar 2025 07:07:07 AM -03",
          " Thu 21 Nov 2024 05:28:45 AM -03",
          " Thu 21 Nov 2024 05:28:46 AM -03",
          " Thu 21 Nov 2024 05:28:47 AM -03",
          " Thu 21 Nov 2024 05:28:48 AM -03",
          " Thu 21 Nov 2024 05:28:49 AM -03",
          " Thu 24 Apr 2025 01:42:52 PM -03",
          " Thu 24 Apr 2025 01:43:02 PM -03",
          " Thu 24 Apr 2025 01:43:24 PM -03",
          " Thu 24 Apr 2025 03:17:16 AM -03",
          " Thu 24 Apr 2025 03:17:17 AM -03",
          " Thu 24 Apr 2025 04:33:04 PM -03",
          " Thu 24 Apr 2025 04:33:05 PM -03",
          " Thu 24 Apr 2025 05:05:35 AM -03",
          " Thu 24 Apr 2025 05:57:30 AM -03",
          " Thu 24 Apr 2025 09:03:46 AM -03",
          " Thu 24 Apr 2025 09:03:51 AM -03",
          " Thu 24 Apr 2025 09:03:56 AM -03",
          " Thu 25 Apr 2024 05:40:14 AM -03",
          " Thu 25 Apr 2024 08:31:21 AM -03",
          " Thu 25 Apr 2024 10:14:25 AM -03",
          " Thu 25 Apr 2024 10:14:33 AM -03",
          " Thu 25 Apr 2024 10:14:34 AM -03",
          " Thu 25 Apr 2024 10:14:35 AM -03",
          " Thu 25 Apr 2024 10:14:36 AM -03",
          " Thu 25 Apr 2024 10:14:38 AM -03",
          " Thu 25 Apr 2024 10:14:39 AM -03",
          " Thu 25 Apr 2024 10:14:40 AM -03",
          " Thu 25 Apr 2024 10:14:41 AM -03",
          " Thu 25 Apr 2024 10:14:42 AM -03",
          " Thu 25 Apr 2024 10:14:44 AM -03",
          " Thu 25 Apr 2024 10:14:45 AM -03",
          " Thu 25 Apr 2024 10:14:46 AM -03",
          " Thu 25 Apr 2024 10:14:49 AM -03",
          " Thu 25 Apr 2024 10:14:50 AM -03",
          " Thu 25 Apr 2024 10:14:51 AM -03",
          " Thu 25 Apr 2024 10:14:52 AM -03",
          " Thu 25 Apr 2024 10:14:55 AM -03",
          " Thu 25 Apr 2024 10:14:56 AM -03",
          " Thu 25 Apr 2024 10:14:57 AM -03",
          " Thu 25 Apr 2024 10:15:00 AM -03",
          " Thu 25 Apr 2024 10:15:01 AM -03",
          " Thu 25 Apr 2024 10:15:11 AM -03",
          " Thu 25 Apr 2024 10:15:25 AM -03",
          " Thu 25 Apr 2024 10:15:30 AM -03",
          " Thu 25 Apr 2024 10:15:31 AM -03",
          " Thu 25 Apr 2024 10:15:32 AM -03",
          " Thu 25 Apr 2024 10:15:33 AM -03",
          " Thu 25 Apr 2024 10:15:34 AM -03",
          " Thu 25 Apr 2024 10:15:35 AM -03",
          " Thu 25 Apr 2024 10:15:36 AM -03",
          " Thu 25 Apr 2024 10:15:37 AM -03",
          " Thu 25 Apr 2024 10:15:39 AM -03",
          " Thu 25 Apr 2024 10:15:40 AM -03",
          " Thu 25 Apr 2024 10:15:42 AM -03",
          " Thu 25 Apr 2024 10:15:43 AM -03",
          " Thu 25 Apr 2024 10:15:47 AM -03",
          " Thu 25 Apr 2024 10:15:50 AM -03",
          " Thu 25 Apr 2024 10:15:53 AM -03",
          " Thu 25 Apr 2024 10:33:23 AM -03",
          " Thu 25 Jan 2024 01:03:58 AM -03",
          " Thu 25 Jan 2024 01:08:06 AM -03",
          " Thu 25 Jan 2024 01:09:03 AM -03",
          " Thu 25 Jan 2024 01:09:15 AM -03",
          " Thu 25 Jan 2024 01:11:45 AM -03",
          " Thu 25 Jan 2024 01:13:42 AM -03",
          " Thu 25 Jan 2024 01:16:22 AM -03",
          " Thu 25 Jan 2024 01:18:31 AM -03",
          " Thu 25 Jan 2024 01:19:16 AM -03",
          " Thu 25 Jan 2024 01:19:55 AM -03",
          " Thu 25 Jan 2024 01:20:18 AM -03",
          " Thu 25 Jan 2024 01:21:03 AM -03",
          " Thu 25 Jan 2024 01:21:49 AM -03",
          " Thu 25 Jan 2024 01:22:24 AM -03",
          " Thu 25 Jan 2024 01:23:03 AM -03",
          " Thu 25 Jan 2024 01:23:17 AM -03",
          " Thu 25 Jan 2024 01:23:26 AM -03",
          " Thu 25 Jan 2024 01:24:36 AM -03",
          " Thu 25 Jan 2024 01:26:20 AM -03",
          " Thu 25 Jan 2024 01:26:27 AM -03",
          " Thu 25 Jan 2024 01:29:47 AM -03",
          " Thu 25 Jan 2024 01:30:53 AM -03",
          " Thu 25 Jan 2024 01:35:42 AM -03",
          " Thu 25 Jan 2024 01:38:15 AM -03",
          " Thu 25 Jan 2024 01:41:01 AM -03",
          " Thu 25 Jan 2024 01:41:31 AM -03",
          " Thu 25 Jan 2024 01:45:37 AM -03",
          " Thu 25 Jan 2024 01:45:55 AM -03",
          " Thu 25 Jan 2024 01:50:09 PM -03",
          " Thu 25 Jan 2024 01:52:19 AM -03",
          " Thu 25 Jan 2024 01:52:33 AM -03",
          " Thu 25 Jan 2024 01:53:02 AM -03",
          " Thu 25 Jan 2024 01:53:49 AM -03",
          " Thu 25 Jan 2024 01:56:22 AM -03",
          " Thu 25 Jan 2024 02:00:44 PM -03",
          " Thu 25 Jan 2024 02:02:29 AM -03",
          " Thu 25 Jan 2024 02:03:14 AM -03",
          " Thu 25 Jan 2024 02:03:26 AM -03",
          " Thu 25 Jan 2024 02:04:05 AM -03",
          " Thu 25 Jan 2024 02:04:19 AM -03",
          " Thu 25 Jan 2024 02:05:49 AM -03",
          " Thu 25 Jan 2024 02:06:27 AM -03",
          " Thu 25 Jan 2024 02:07:33 PM -03",
          " Thu 25 Jan 2024 02:09:11 AM -03",
          " Thu 25 Jan 2024 02:18:00 PM -03",
          " Thu 25 Jan 2024 02:21:46 PM -03",
          " Thu 25 Jan 2024 02:22:01 AM -03",
          " Thu 25 Jan 2024 02:27:32 AM -03",
          " Thu 25 Jan 2024 02:30:08 PM -03",
          " Thu 25 Jan 2024 02:30:12 AM -03",
          " Thu 25 Jan 2024 02:30:21 AM -03",
          " Thu 25 Jan 2024 02:32:46 AM -03",
          " Thu 25 Jan 2024 02:34:50 AM -03",
          " Thu 25 Jan 2024 02:35:03 AM -03",
          " Thu 25 Jan 2024 02:35:23 AM -03",
          " Thu 25 Jan 2024 02:35:50 PM -03",
          " Thu 25 Jan 2024 02:37:22 AM -03",
          " Thu 25 Jan 2024 02:38:41 AM -03",
          " Thu 25 Jan 2024 02:40:04 PM -03",
          " Thu 25 Jan 2024 02:40:58 AM -03",
          " Thu 25 Jan 2024 02:42:14 PM -03",
          " Thu 25 Jan 2024 02:43:18 AM -03",
          " Thu 25 Jan 2024 02:49:06 AM -03",
          " Thu 25 Jan 2024 02:49:07 AM -03",
          " Thu 25 Jan 2024 02:49:08 AM -03",
          " Thu 25 Jan 2024 02:49:41 AM -03",
          " Thu 25 Jan 2024 02:50:20 AM -03",
          " Thu 25 Jan 2024 02:52:23 AM -03",
          " Thu 25 Jan 2024 02:52:55 AM -03",
          " Thu 25 Jan 2024 02:58:11 AM -03",
          " Thu 25 Jan 2024 02:58:33 AM -03",
          " Thu 25 Jan 2024 02:58:42 AM -03",
          " Thu 25 Jan 2024 02:58:49 AM -03",
          " Thu 25 Jan 2024 02:59:16 AM -03",
          " Thu 25 Jan 2024 03:01:47 AM -03",
          " Thu 25 Jan 2024 03:02:20 AM -03",
          " Thu 25 Jan 2024 03:02:30 AM -03",
          " Thu 25 Jan 2024 03:02:51 AM -03",
          " Thu 25 Jan 2024 03:03:03 AM -03",
          " Thu 25 Jan 2024 03:04:12 AM -03",
          " Thu 25 Jan 2024 03:04:20 AM -03",
          " Thu 25 Jan 2024 03:05:28 PM -03",
          " Thu 25 Jan 2024 03:11:28 AM -03",
          " Thu 25 Jan 2024 03:11:46 PM -03",
          " Thu 25 Jan 2024 03:12:20 PM -03",
          " Thu 25 Jan 2024 03:12:43 AM -03",
          " Thu 25 Jan 2024 03:12:46 AM -03",
          " Thu 25 Jan 2024 03:12:53 PM -03",
          " Thu 25 Jan 2024 03:15:49 AM -03",
          " Thu 25 Jan 2024 03:18:03 PM -03",
          " Thu 25 Jan 2024 03:19:17 AM -03",
          " Thu 25 Jan 2024 03:23:44 AM -03",
          " Thu 25 Jan 2024 03:24:20 AM -03",
          " Thu 25 Jan 2024 03:24:28 AM -03",
          " Thu 25 Jan 2024 03:26:02 AM -03",
          " Thu 25 Jan 2024 03:26:35 AM -03",
          " Thu 25 Jan 2024 03:28:06 AM -03",
          " Thu 25 Jan 2024 03:29:03 AM -03",
          " Thu 25 Jan 2024 03:29:04 AM -03",
          " Thu 25 Jan 2024 03:29:16 PM -03",
          " Thu 25 Jan 2024 03:29:29 AM -03",
          " Thu 25 Jan 2024 03:30:58 AM -03",
          " Thu 25 Jan 2024 03:31:48 PM -03",
          " Thu 25 Jan 2024 03:31:52 AM -03",
          " Thu 25 Jan 2024 03:31:55 PM -03",
          " Thu 25 Jan 2024 03:31:56 PM -03",
          " Thu 25 Jan 2024 03:32:16 AM -03",
          " Thu 25 Jan 2024 03:33:19 AM -03",
          " Thu 25 Jan 2024 03:33:37 AM -03",
          " Thu 25 Jan 2024 03:33:41 PM -03",
          " Thu 25 Jan 2024 03:34:05 PM -03",
          " Thu 25 Jan 2024 03:35:35 AM -03",
          " Thu 25 Jan 2024 03:37:17 AM -03",
          " Thu 25 Jan 2024 03:37:26 PM -03",
          " Thu 25 Jan 2024 03:38:26 AM -03",
          " Thu 25 Jan 2024 03:42:10 AM -03",
          " Thu 25 Jan 2024 03:45:10 AM -03",
          " Thu 25 Jan 2024 03:49:19 AM -03",
          " Thu 25 Jan 2024 03:49:57 AM -03",
          " Thu 25 Jan 2024 03:51:00 AM -03",
          " Thu 25 Jan 2024 03:51:14 AM -03",
          " Thu 25 Jan 2024 03:51:25 AM -03",
          " Thu 25 Jan 2024 04:05:03 AM -03",
          " Thu 25 Jan 2024 04:05:04 AM -03",
          " Thu 25 Jan 2024 04:08:27 AM -03",
          " Thu 25 Jan 2024 04:08:28 AM -03",
          " Thu 25 Jan 2024 04:08:29 AM -03",
          " Thu 25 Jan 2024 04:09:11 AM -03",
          " Thu 25 Jan 2024 04:10:11 AM -03",
          " Thu 25 Jan 2024 04:10:23 AM -03",
          " Thu 25 Jan 2024 04:10:24 AM -03",
          " Thu 25 Jan 2024 04:13:05 AM -03",
          " Thu 25 Jan 2024 04:13:20 AM -03",
          " Thu 25 Jan 2024 04:16:54 AM -03",
          " Thu 25 Jan 2024 04:17:35 AM -03",
          " Thu 25 Jan 2024 04:20:43 AM -03",
          " Thu 25 Jan 2024 04:21:33 AM -03",
          " Thu 25 Jan 2024 04:26:51 PM -03",
          " Thu 25 Jan 2024 04:27:12 PM -03",
          " Thu 25 Jan 2024 04:33:15 PM -03",
          " Thu 25 Jan 2024 04:34:14 PM -03",
          " Thu 25 Jan 2024 04:34:48 AM -03",
          " Thu 25 Jan 2024 04:35:10 AM -03",
          " Thu 25 Jan 2024 04:43:20 PM -03",
          " Thu 25 Jan 2024 04:47:09 PM -03",
          " Thu 25 Jan 2024 04:47:48 PM -03",
          " Thu 25 Jan 2024 04:47:57 AM -03",
          " Thu 25 Jan 2024 04:50:47 AM -03",
          " Thu 25 Jan 2024 04:52:05 AM -03",
          " Thu 25 Jan 2024 04:54:20 AM -03",
          " Thu 25 Jan 2024 04:57:28 AM -03",
          " Thu 25 Jan 2024 04:58:31 AM -03",
          " Thu 25 Jan 2024 05:04:57 AM -03",
          " Thu 25 Jan 2024 05:06:49 PM -03",
          " Thu 25 Jan 2024 05:13:43 AM -03",
          " Thu 25 Jan 2024 05:15:01 AM -03",
          " Thu 25 Jan 2024 05:15:02 AM -03",
          " Thu 25 Jan 2024 05:17:33 AM -03",
          " Thu 25 Jan 2024 05:18:20 AM -03",
          " Thu 25 Jan 2024 05:19:32 AM -03",
          " Thu 25 Jan 2024 05:22:44 AM -03",
          " Thu 25 Jan 2024 05:26:22 AM -03",
          " Thu 25 Jan 2024 05:27:30 AM -03",
          " Thu 25 Jan 2024 05:28:17 AM -03",
          " Thu 25 Jan 2024 05:29:13 AM -03",
          " Thu 25 Jan 2024 05:30:00 AM -03",
          " Thu 25 Jan 2024 05:30:28 PM -03",
          " Thu 25 Jan 2024 05:30:35 PM -03",
          " Thu 25 Jan 2024 05:30:36 PM -03",
          " Thu 25 Jan 2024 05:30:54 PM -03",
          " Thu 25 Jan 2024 05:31:19 AM -03",
          " Thu 25 Jan 2024 05:31:41 AM -03",
          " Thu 25 Jan 2024 05:32:35 AM -03",
          " Thu 25 Jan 2024 05:33:42 PM -03",
          " Thu 25 Jan 2024 05:33:50 AM -03",
          " Thu 25 Jan 2024 05:33:51 AM -03",
          " Thu 25 Jan 2024 05:34:21 PM -03",
          " Thu 25 Jan 2024 05:34:36 AM -03",
          " Thu 25 Jan 2024 05:36:22 AM -03",
          " Thu 25 Jan 2024 05:39:43 AM -03",
          " Thu 25 Jan 2024 05:41:43 AM -03",
          " Thu 25 Jan 2024 05:41:51 AM -03",
          " Thu 25 Jan 2024 05:42:17 AM -03",
          " Thu 25 Jan 2024 05:42:40 AM -03",
          " Thu 25 Jan 2024 05:43:28 AM -03",
          " Thu 25 Jan 2024 05:46:00 AM -03",
          " Thu 25 Jan 2024 05:49:12 AM -03",
          " Thu 25 Jan 2024 05:55:10 AM -03",
          " Thu 25 Jan 2024 05:59:59 PM -03",
          " Thu 25 Jan 2024 06:08:10 PM -03",
          " Thu 25 Jan 2024 06:18:02 AM -03",
          " Thu 25 Jan 2024 06:18:35 AM -03",
          " Thu 25 Jan 2024 06:21:12 PM -03",
          " Thu 25 Jan 2024 06:27:21 PM -03",
          " Thu 25 Jan 2024 06:31:28 PM -03",
          " Thu 25 Jan 2024 06:32:09 PM -03",
          " Thu 25 Jan 2024 06:32:11 AM -03",
          " Thu 25 Jan 2024 06:34:55 PM -03",
          " Thu 25 Jan 2024 06:35:33 PM -03",
          " Thu 25 Jan 2024 06:36:02 AM -03",
          " Thu 25 Jan 2024 06:39:41 AM -03",
          " Thu 25 Jan 2024 06:45:21 PM -03",
          " Thu 25 Jan 2024 06:46:36 AM -03",
          " Thu 25 Jan 2024 06:47:02 PM -03",
          " Thu 25 Jan 2024 06:54:33 PM -03",
          " Thu 25 Jan 2024 06:55:22 AM -03",
          " Thu 25 Jan 2024 06:59:10 AM -03",
          " Thu 25 Jan 2024 06:59:11 AM -03",
          " Thu 25 Jan 2024 07:05:26 PM -03",
          " Thu 25 Jan 2024 07:06:50 AM -03",
          " Thu 25 Jan 2024 07:09:15 PM -03",
          " Thu 25 Jan 2024 07:14:57 PM -03",
          " Thu 25 Jan 2024 07:17:20 PM -03",
          " Thu 25 Jan 2024 07:17:45 PM -03",
          " Thu 25 Jan 2024 07:18:49 PM -03",
          " Thu 25 Jan 2024 07:26:04 PM -03",
          " Thu 25 Jan 2024 07:30:33 PM -03",
          " Thu 25 Jan 2024 07:38:38 PM -03",
          " Thu 25 Jan 2024 07:40:30 PM -03",
          " Thu 25 Jan 2024 07:54:47 PM -03",
          " Thu 25 Jan 2024 07:55:18 PM -03",
          " Thu 25 Jan 2024 07:55:44 AM -03",
          " Thu 25 Jan 2024 07:56:39 PM -03",
          " Thu 25 Jan 2024 07:56:52 PM -03",
          " Thu 25 Jan 2024 07:59:02 PM -03",
          " Thu 25 Jan 2024 07:59:03 PM -03",
          " Thu 25 Jan 2024 08:30:37 AM -03",
          " Thu 25 Jan 2024 08:34:30 AM -03",
          " Thu 25 Jan 2024 08:34:59 AM -03",
          " Thu 25 Jan 2024 08:35:02 AM -03",
          " Thu 25 Jan 2024 08:35:06 AM -03",
          " Thu 25 Jan 2024 08:35:15 AM -03",
          " Thu 25 Jan 2024 08:36:31 AM -03",
          " Thu 25 Jan 2024 08:38:00 PM -03",
          " Thu 25 Jan 2024 08:38:36 PM -03",
          " Thu 25 Jan 2024 08:43:33 AM -03",
          " Thu 25 Jan 2024 08:47:03 AM -03",
          " Thu 25 Jan 2024 08:47:04 AM -03",
          " Thu 25 Jan 2024 08:51:09 PM -03",
          " Thu 25 Jan 2024 08:58:30 PM -03",
          " Thu 25 Jan 2024 09:00:07 AM -03",
          " Thu 25 Jan 2024 09:03:26 PM -03",
          " Thu 25 Jan 2024 09:05:39 PM -03",
          " Thu 25 Jan 2024 09:09:31 PM -03",
          " Thu 25 Jan 2024 09:10:49 PM -03",
          " Thu 25 Jan 2024 09:10:50 PM -03",
          " Thu 25 Jan 2024 09:20:08 PM -03",
          " Thu 25 Jan 2024 09:23:58 PM -03",
          " Thu 25 Jan 2024 09:26:57 AM -03",
          " Thu 25 Jan 2024 09:32:06 PM -03",
          " Thu 25 Jan 2024 09:32:54 PM -03",
          " Thu 25 Jan 2024 09:36:59 PM -03",
          " Thu 25 Jan 2024 09:40:56 PM -03",
          " Thu 25 Jan 2024 09:42:42 PM -03",
          " Thu 25 Jan 2024 09:44:36 AM -03",
          " Thu 25 Jan 2024 09:44:53 PM -03",
          " Thu 25 Jan 2024 09:50:05 PM -03",
          " Thu 25 Jan 2024 10:00:35 PM -03",
          " Thu 25 Jan 2024 10:24:33 AM -03",
          " Thu 25 Jan 2024 10:35:40 AM -03",
          " Thu 25 Jan 2024 10:45:24 AM -03",
          " Thu 25 Jan 2024 10:50:39 AM -03",
          " Thu 25 Jan 2024 11:04:19 PM -03",
          " Thu 25 Jan 2024 11:11:55 PM -03",
          " Thu 25 Jan 2024 11:13:07 PM -03",
          " Thu 25 Jan 2024 11:32:21 PM -03",
          " Thu 25 Jan 2024 11:39:47 PM -03",
          " Thu 25 Jan 2024 12:23:04 AM -03",
          " Thu 25 Jan 2024 12:32:32 AM -03",
          " Thu 25 Jan 2024 12:32:33 AM -03",
          " Thu 25 Jan 2024 12:42:04 AM -03",
          " Thu 25 Jan 2024 12:50:48 AM -03",
          " Thu 25 Jan 2024 12:52:45 AM -03",
          " Thu 25 Jan 2024 12:53:08 AM -03",
          " Thu 25 Jul 2024 04:17:22 AM -03",
          " Thu 25 Jul 2024 09:01:17 AM -03",
          " Thu 25 Jul 2024 09:01:18 AM -03",
          " Thu 26 Sep 2024 06:11:32 AM -03",
          " Thu 26 Sep 2024 10:46:48 AM -03",
          " Thu 27 Feb 2025 08:56:41 PM -03",
          " Thu 27 Feb 2025 10:04:44 PM -03",
          " Thu 27 Feb 2025 11:51:02 AM -03",
          " Thu 27 Mar 2025 06:05:25 AM -03",
          " Thu 27 Mar 2025 11:13:10 AM -03",
          " Thu 28 Mar 2024 07:41:48 PM -03",
          " Thu 28 Mar 2024 07:41:50 PM -03",
          " Thu 28 Nov 2024 05:07:13 AM -03",
          " Thu 28 Nov 2024 05:36:19 AM -03",
          " Thu 28 Nov 2024 05:36:20 AM -03",
          " Thu 29 Aug 2024 04:54:10 AM -03",
          " Thu 29 Aug 2024 04:54:13 AM -03",
          " Thu 29 Aug 2024 04:54:16 AM -03",
          " Thu 29 Aug 2024 04:54:20 AM -03",
          " Thu 29 Aug 2024 04:54:21 AM -03",
          " Thu 29 Aug 2024 06:21:51 PM -03",
          " Thu 29 Aug 2024 11:48:27 AM -03",
          " Thu 30 Jan 2025 09:36:05 PM -03",
          " Thu 30 Jan 2025 09:36:06 PM -03",
          " Thu 30 May 2024 03:26:23 PM -03",
          " Thu 30 May 2024 03:27:38 PM -03",
          " Thu 30 May 2024 03:27:39 PM -03",
          " Thu 30 May 2024 03:27:40 PM -03",
          " Thu 30 May 2024 04:49:11 PM -03",
          " Thu 31 Oct 2024 11:56:41 AM -03",
          " Thu 31 Oct 2024 11:56:43 AM -03",
          " Thu 31 Oct 2024 11:56:44 AM -03",
          " Tue 01 Apr 2025 10:16:15 AM -03",
          " Tue 01 Apr 2025 10:16:16 AM -03",
          " Tue 01 Oct 2024 09:31:27 AM -03",
          " Tue 02 Apr 2024 03:50:40 AM -03",
          " Tue 02 Apr 2024 05:59:03 AM -03",
          " Tue 02 Apr 2024 06:31:09 AM -03",
          " Tue 02 Apr 2024 12:10:12 PM -03",
          " Tue 02 Apr 2024 12:33:14 PM -03",
          " Tue 02 Jul 2024 07:17:23 PM -03",
          " Tue 02 Jul 2024 07:17:24 PM -03",
          " Tue 02 Jul 2024 07:17:25 PM -03",
          " Tue 03 Dec 2024 02:03:15 PM -03",
          " Tue 03 Dec 2024 07:05:48 AM -03",
          " Tue 03 Sep 2024 09:20:09 AM -03",
          " Tue 03 Sep 2024 09:20:10 AM -03",
          " Tue 03 Sep 2024 09:20:42 AM -03",
          " Tue 03 Sep 2024 09:20:51 AM -03",
          " Tue 03 Sep 2024 12:41:47 AM -03",
          " Tue 04 Feb 2025 08:50:50 AM -03",
          " Tue 05 Nov 2024 01:25:54 AM -03",
          " Tue 05 Nov 2024 09:36:33 AM -03",
          " Tue 05 Nov 2024 12:07:01 PM -03",
          " Tue 06 Aug 2024 06:31:44 AM -03",
          " Tue 06 Feb 2024 01:19:55 PM -03",
          " Tue 06 Feb 2024 07:39:49 AM -03",
          " Tue 06 Feb 2024 11:40:30 AM -03",
          " Tue 06 Feb 2024 11:40:37 AM -03",
          " Tue 06 Feb 2024 12:09:04 PM -03",
          " Tue 06 Feb 2024 12:49:56 PM -03",
          " Tue 06 Feb 2024 12:58:36 PM -03",
          " Tue 07 Jan 2025 05:17:36 PM -03",
          " Tue 07 Jan 2025 05:17:39 PM -03",
          " Tue 07 Jan 2025 05:17:50 PM -03",
          " Tue 07 Jan 2025 05:17:56 PM -03",
          " Tue 07 Jan 2025 05:18:07 PM -03",
          " Tue 07 Jan 2025 05:18:21 PM -03",
          " Tue 07 Jan 2025 05:18:24 PM -03",
          " Tue 07 Jan 2025 07:04:05 PM -03",
          " Tue 07 Jan 2025 07:04:06 PM -03",
          " Tue 07 May 2024 07:32:34 AM -03",
          " Tue 07 May 2024 12:50:49 PM -03",
          " Tue 08 Apr 2025 04:14:44 AM -03",
          " Tue 08 Apr 2025 05:29:59 PM -03",
          " Tue 08 Oct 2024 11:50:18 AM -03",
          " Tue 09 Apr 2024 07:16:20 AM -03",
          " Tue 09 Apr 2024 09:54:00 AM -03",
          " Tue 09 Jul 2024 07:10:05 AM -03",
          " Tue 10 Sep 2024 10:26:47 PM -03",
          " Tue 11 Feb 2025 09:09:31 PM -03",
          " Tue 11 Jun 2024 06:14:24 PM -03",
          " Tue 11 Mar 2025 07:07:14 AM -03",
          " Tue 11 Mar 2025 07:07:15 AM -03",
          " Tue 11 Mar 2025 07:07:16 AM -03",
          " Tue 11 Mar 2025 07:07:17 AM -03",
          " Tue 12 Mar 2024 04:40:40 PM -03",
          " Tue 12 Nov 2024 11:21:45 AM -03",
          " Tue 13 Feb 2024 06:02:10 AM -03",
          " Tue 13 Feb 2024 07:09:34 AM -03",
          " Tue 13 Feb 2024 08:36:34 AM -03",
          " Tue 13 Feb 2024 10:00:15 AM -03",
          " Tue 14 Jan 2025 04:35:07 AM -03",
          " Tue 14 Jan 2025 04:35:09 AM -03",
          " Tue 14 May 2024 08:27:35 AM -03",
          " Tue 14 May 2024 08:27:36 AM -03",
          " Tue 15 Apr 2025 04:08:02 PM -03",
          " Tue 15 Apr 2025 06:20:49 PM -03",
          " Tue 15 Apr 2025 06:20:50 PM -03",
          " Tue 15 Oct 2024 06:10:06 PM -03",
          " Tue 15 Oct 2024 06:10:07 PM -03",
          " Tue 15 Oct 2024 06:10:09 PM -03",
          " Tue 15 Oct 2024 10:57:46 AM -03",
          " Tue 15 Oct 2024 10:57:47 AM -03",
          " Tue 15 Oct 2024 11:06:21 AM -03",
          " Tue 16 Apr 2024 04:57:49 AM -03",
          " Tue 16 Apr 2024 05:01:55 AM -03",
          " Tue 16 Apr 2024 07:40:33 AM -03",
          " Tue 16 Apr 2024 07:40:34 AM -03",
          " Tue 16 Apr 2024 07:40:35 AM -03",
          " Tue 16 Apr 2024 07:46:24 AM -03",
          " Tue 16 Apr 2024 08:26:29 PM -03",
          " Tue 16 Apr 2024 08:26:30 PM -03",
          " Tue 16 Apr 2024 09:01:26 AM -03",
          " Tue 16 Apr 2024 09:01:27 AM -03",
          " Tue 16 Apr 2024 09:01:28 AM -03",
          " Tue 16 Apr 2024 09:01:29 AM -03",
          " Tue 16 Jul 2024 01:27:50 PM -03",
          " Tue 16 Jul 2024 01:27:51 PM -03",
          " Tue 16 Jul 2024 08:31:41 AM -03",
          " Tue 16 Jul 2024 08:50:35 AM -03",
          " Tue 16 Jul 2024 08:50:36 AM -03",
          " Tue 17 Dec 2024 05:52:04 AM -03",
          " Tue 17 Sep 2024 05:20:36 AM -03",
          " Tue 17 Sep 2024 05:20:37 AM -03",
          " Tue 17 Sep 2024 05:20:38 AM -03",
          " Tue 18 Feb 2025 06:48:04 AM -03",
          " Tue 18 Feb 2025 10:47:39 AM -03",
          " Tue 18 Feb 2025 12:02:02 PM -03",
          " Tue 18 Jun 2024 02:30:52 PM -03",
          " Tue 18 Mar 2025 02:44:20 PM -03",
          " Tue 18 Mar 2025 02:44:27 PM -03",
          " Tue 18 Mar 2025 09:32:43 AM -03",
          " Tue 19 Nov 2024 11:05:42 AM -03",
          " Tue 19 Nov 2024 11:05:45 AM -03",
          " Tue 20 Aug 2024 05:25:22 PM -03",
          " Tue 20 Aug 2024 05:25:23 PM -03",
          " Tue 20 Aug 2024 07:32:52 AM -03",
          " Tue 20 Feb 2024 06:10:04 AM -03",
          " Tue 21 Jan 2025 09:50:32 AM -03",
          " Tue 21 Jan 2025 09:50:33 AM -03",
          " Tue 21 Jan 2025 09:50:34 AM -03",
          " Tue 21 Jan 2025 09:50:35 AM -03",
          " Tue 21 May 2024 03:02:15 PM -03",
          " Tue 21 May 2024 10:14:25 AM -03",
          " Tue 22 Apr 2025 03:50:35 PM -03",
          " Tue 22 Apr 2025 03:50:38 PM -03",
          " Tue 22 Apr 2025 07:14:36 AM -03",
          " Tue 22 Apr 2025 10:01:01 AM -03",
          " Tue 22 Apr 2025 10:37:07 PM -03",
          " Tue 23 Jan 2024 05:56:05 PM -03",
          " Tue 23 Jan 2024 06:08:14 PM -03",
          " Tue 23 Jan 2024 06:08:15 PM -03",
          " Tue 23 Jan 2024 06:37:58 PM -03",
          " Tue 23 Jan 2024 09:21:14 AM -03",
          " Tue 23 Jan 2024 12:09:52 PM -03",
          " Tue 23 Jan 2024 12:51:31 AM -03",
          " Tue 23 Jul 2024 10:40:49 AM -03",
          " Tue 23 Jul 2024 10:40:50 AM -03",
          " Tue 24 Dec 2024 03:44:52 PM -03",
          " Tue 25 Jun 2024 05:32:04 PM -03",
          " Tue 25 Mar 2025 04:17:47 PM -03",
          " Tue 25 Mar 2025 04:17:50 PM -03",
          " Tue 25 Mar 2025 04:17:56 PM -03",
          " Tue 25 Mar 2025 04:17:58 PM -03",
          " Tue 25 Mar 2025 04:17:59 PM -03",
          " Tue 25 Mar 2025 04:18:00 PM -03",
          " Tue 25 Mar 2025 07:43:05 AM -03",
          " Tue 25 Mar 2025 09:58:43 AM -03",
          " Tue 25 Mar 2025 09:58:44 AM -03",
          " Tue 25 Mar 2025 09:58:58 AM -03",
          " Tue 26 Mar 2024 02:45:05 PM -03",
          " Tue 26 Mar 2024 02:45:06 PM -03",
          " Tue 26 Mar 2024 05:13:08 AM -03",
          " Tue 26 Mar 2024 12:41:23 PM -03",
          " Tue 27 Aug 2024 05:45:48 AM -03",
          " Tue 27 Aug 2024 12:08:08 PM -03",
          " Tue 27 Aug 2024 12:08:10 PM -03",
          " Tue 27 Aug 2024 12:08:11 PM -03",
          " Tue 27 Aug 2024 12:08:12 PM -03",
          " Tue 27 Aug 2024 12:08:13 PM -03",
          " Tue 27 Aug 2024 12:08:14 PM -03",
          " Tue 27 Feb 2024 09:42:44 AM -03",
          " Tue 28 Jan 2025 05:49:54 PM -03",
          " Tue 28 Jan 2025 07:19:00 AM -03",
          " Tue 28 Jan 2025 07:19:01 AM -03",
          " Tue 28 Jan 2025 07:19:03 AM -03",
          " Tue 28 Jan 2025 09:01:10 PM -03",
          " Tue 28 May 2024 07:18:07 AM -03",
          " Tue 28 May 2024 09:15:24 AM -03",
          " Tue 29 Apr 2025 08:20:34 PM -03",
          " Tue 29 Oct 2024 09:20:05 AM -03",
          " Tue 30 Jan 2024 07:31:43 AM -03",
          " Tue 30 Jan 2024 07:41:08 AM -03",
          " Tue 30 Jan 2024 11:31:14 AM -03",
          " Tue 30 Jul 2024 12:07:52 PM -03",
          " Tue 30 Jul 2024 12:22:06 PM -03",
          " Wed 01 Jan 2025 11:19:31 PM -03",
          " Wed 02 Apr 2025 01:27:10 PM -03",
          " Wed 02 Apr 2025 02:29:28 PM -03",
          " Wed 02 Apr 2025 05:28:47 AM -03",
          " Wed 02 Apr 2025 09:56:27 AM -03",
          " Wed 02 Apr 2025 09:56:28 AM -03",
          " Wed 02 Apr 2025 11:07:42 AM -03",
          " Wed 03 Jul 2024 07:33:19 AM -03",
          " Wed 03 Jul 2024 07:53:32 AM -03",
          " Wed 03 Jul 2024 10:27:27 AM -03",
          " Wed 04 Sep 2024 10:43:54 AM -03",
          " Wed 04 Sep 2024 10:49:24 PM -03",
          " Wed 05 Feb 2025 09:47:30 AM -03",
          " Wed 05 Feb 2025 09:47:31 AM -03",
          " Wed 05 Feb 2025 09:47:32 AM -03",
          " Wed 05 Feb 2025 09:59:48 AM -03",
          " Wed 05 Feb 2025 10:00:01 AM -03",
          " Wed 05 Feb 2025 10:00:06 AM -03",
          " Wed 05 Feb 2025 10:00:16 AM -03",
          " Wed 05 Jun 2024 06:04:18 PM -03",
          " Wed 05 Jun 2024 06:04:19 PM -03",
          " Wed 05 Jun 2024 06:23:38 AM -03",
          " Wed 05 Jun 2024 09:38:51 AM -03",
          " Wed 06 Mar 2024 04:00:29 AM -03",
          " Wed 06 Mar 2024 07:26:00 AM -03",
          " Wed 06 Mar 2024 07:50:00 AM -03",
          " Wed 06 Mar 2024 07:50:02 AM -03",
          " Wed 06 Mar 2024 08:22:58 AM -03",
          " Wed 06 Mar 2024 08:23:00 AM -03",
          " Wed 06 Mar 2024 09:38:24 AM -03",
          " Wed 06 Mar 2024 11:44:59 PM -03",
          " Wed 06 Nov 2024 01:46:48 AM -03",
          " Wed 06 Nov 2024 02:15:27 PM -03",
          " Wed 06 Nov 2024 02:15:28 PM -03",
          " Wed 06 Nov 2024 02:15:29 PM -03",
          " Wed 06 Nov 2024 06:07:11 PM -03",
          " Wed 07 Aug 2024 11:34:13 PM -03",
          " Wed 07 Aug 2024 11:34:14 PM -03",
          " Wed 07 Aug 2024 12:40:56 PM -03",
          " Wed 07 Feb 2024 01:03:08 PM -03",
          " Wed 07 Feb 2024 01:03:09 PM -03",
          " Wed 07 Feb 2024 01:03:10 PM -03",
          " Wed 07 Feb 2024 01:03:11 PM -03",
          " Wed 07 Feb 2024 01:03:14 PM -03",
          " Wed 07 Feb 2024 01:03:15 PM -03",
          " Wed 07 Feb 2024 01:03:16 PM -03",
          " Wed 07 Feb 2024 04:52:52 AM -03",
          " Wed 07 Feb 2024 09:31:41 AM -03",
          " Wed 07 Feb 2024 09:31:42 AM -03",
          " Wed 07 Feb 2024 09:31:43 AM -03",
          " Wed 09 Apr 2025 01:08:29 PM -03",
          " Wed 09 Apr 2025 01:08:34 PM -03",
          " Wed 09 Apr 2025 01:08:35 PM -03",
          " Wed 09 Apr 2025 01:08:41 PM -03",
          " Wed 09 Apr 2025 01:08:47 PM -03",
          " Wed 09 Apr 2025 01:09:04 PM -03",
          " Wed 09 Apr 2025 01:09:16 PM -03",
          " Wed 09 Apr 2025 01:09:21 PM -03",
          " Wed 09 Apr 2025 01:09:22 PM -03",
          " Wed 09 Apr 2025 01:09:34 PM -03",
          " Wed 09 Apr 2025 03:55:22 AM -03",
          " Wed 09 Apr 2025 07:29:37 PM -03",
          " Wed 09 Apr 2025 07:29:38 PM -03",
          " Wed 09 Oct 2024 07:19:02 AM -03",
          " Wed 09 Oct 2024 07:34:11 AM -03",
          " Wed 09 Oct 2024 09:36:23 PM -03",
          " Wed 10 Apr 2024 07:00:05 AM -03",
          " Wed 10 Apr 2024 12:34:33 PM -03",
          " Wed 10 Jul 2024 02:52:44 AM -03",
          " Wed 11 Dec 2024 01:27:27 PM -03",
          " Wed 11 Dec 2024 10:29:45 PM -03",
          " Wed 12 Feb 2025 01:17:17 PM -03",
          " Wed 12 Feb 2025 01:17:20 PM -03",
          " Wed 12 Feb 2025 06:56:13 PM -03",
          " Wed 12 Feb 2025 08:06:30 AM -03",
          " Wed 12 Feb 2025 10:17:53 AM -03",
          " Wed 12 Feb 2025 10:17:54 AM -03",
          " Wed 12 Jun 2024 05:54:56 AM -03",
          " Wed 12 Jun 2024 05:58:28 AM -03",
          " Wed 12 Jun 2024 12:53:03 PM -03",
          " Wed 12 Mar 2025 04:33:45 PM -03",
          " Wed 12 Mar 2025 09:06:20 PM -03",
          " Wed 12 Mar 2025 09:06:29 PM -03",
          " Wed 12 Mar 2025 09:55:52 AM -03",
          " Wed 13 Mar 2024 09:21:26 AM -03",
          " Wed 13 Nov 2024 07:45:32 AM -03",
          " Wed 14 Feb 2024 04:41:00 PM -03",
          " Wed 14 Feb 2024 04:46:18 PM -03",
          " Wed 15 Jan 2025 10:02:56 AM -03",
          " Wed 15 May 2024 12:26:58 PM -03",
          " Wed 16 Apr 2025 02:48:04 PM -03",
          " Wed 16 Apr 2025 05:27:21 AM -03",
          " Wed 16 Apr 2025 06:42:38 PM -03",
          " Wed 16 Apr 2025 08:08:48 AM -03",
          " Wed 16 Apr 2025 12:38:34 PM -03",
          " Wed 16 Apr 2025 12:38:36 PM -03",
          " Wed 16 Apr 2025 12:38:37 PM -03",
          " Wed 16 Oct 2024 04:58:46 AM -03",
          " Wed 16 Oct 2024 10:39:39 AM -03",
          " Wed 16 Oct 2024 11:42:59 AM -03",
          " Wed 16 Oct 2024 11:43:06 AM -03",
          " Wed 17 Apr 2024 05:15:22 AM -03",
          " Wed 17 Apr 2024 08:35:21 AM -03",
          " Wed 17 Apr 2024 08:35:22 AM -03",
          " Wed 17 Apr 2024 11:10:32 AM -03",
          " Wed 17 Apr 2024 11:10:33 AM -03",
          " Wed 17 Jul 2024 11:10:19 AM -03",
          " Wed 18 Dec 2024 06:29:22 AM -03",
          " Wed 19 Feb 2025 05:31:59 AM -03",
          " Wed 19 Feb 2025 05:32:00 AM -03",
          " Wed 19 Feb 2025 07:25:03 AM -03",
          " Wed 19 Jun 2024 06:17:37 AM -03",
          " Wed 19 Jun 2024 11:09:24 AM -03",
          " Wed 19 Mar 2025 08:54:06 AM -03",
          " Wed 20 Aug 2025 02:15:13 PM -03",
          " Wed 20 Mar 2024 01:27:23 PM -03",
          " Wed 20 Mar 2024 02:12:03 PM -03",
          " Wed 20 Mar 2024 02:12:04 PM -03",
          " Wed 20 Mar 2024 05:15:35 AM -03",
          " Wed 20 Mar 2024 05:15:37 AM -03",
          " Wed 20 Mar 2024 07:14:20 AM -03",
          " Wed 20 Nov 2024 01:50:30 PM -03",
          " Wed 21 Aug 2024 03:29:46 AM -03",
          " Wed 21 Feb 2024 08:28:54 AM -03",
          " Wed 21 Feb 2024 12:24:48 PM -03",
          " Wed 22 May 2024 06:20:43 AM -03",
          " Wed 22 May 2024 12:08:26 PM -03",
          " Wed 23 Oct 2024 02:09:29 PM -03",
          " Wed 23 Oct 2024 06:59:34 AM -03",
          " Wed 23 Oct 2024 06:59:36 AM -03",
          " Wed 23 Oct 2024 08:46:32 AM -03",
          " Wed 24 Apr 2024 12:47:49 PM -03",
          " Wed 24 Jan 2024 01:20:52 PM -03",
          " Wed 24 Jan 2024 01:21:04 PM -03",
          " Wed 24 Jan 2024 01:24:27 PM -03",
          " Wed 24 Jan 2024 01:24:28 PM -03",
          " Wed 24 Jan 2024 01:24:30 PM -03",
          " Wed 24 Jan 2024 01:24:31 PM -03",
          " Wed 24 Jan 2024 01:24:32 PM -03",
          " Wed 24 Jan 2024 01:24:34 PM -03",
          " Wed 24 Jan 2024 01:27:39 PM -03",
          " Wed 24 Jan 2024 01:28:45 PM -03",
          " Wed 24 Jan 2024 01:33:51 PM -03",
          " Wed 24 Jan 2024 02:55:31 AM -03",
          " Wed 24 Jan 2024 04:54:15 AM -03",
          " Wed 24 Jan 2024 04:54:44 AM -03",
          " Wed 24 Jan 2024 04:55:35 AM -03",
          " Wed 24 Jan 2024 04:55:36 AM -03",
          " Wed 24 Jan 2024 05:09:56 AM -03",
          " Wed 24 Jan 2024 05:28:19 AM -03",
          " Wed 24 Jan 2024 05:40:35 AM -03",
          " Wed 24 Jan 2024 05:54:13 PM -03",
          " Wed 24 Jan 2024 05:55:05 AM -03",
          " Wed 24 Jan 2024 05:55:29 PM -03",
          " Wed 24 Jan 2024 05:56:02 PM -03",
          " Wed 24 Jan 2024 05:59:56 PM -03",
          " Wed 24 Jan 2024 06:00:17 PM -03",
          " Wed 24 Jan 2024 06:02:29 AM -03",
          " Wed 24 Jan 2024 06:02:30 AM -03",
          " Wed 24 Jan 2024 06:15:23 AM -03",
          " Wed 24 Jan 2024 06:21:04 AM -03",
          " Wed 24 Jan 2024 06:21:07 AM -03",
          " Wed 24 Jan 2024 06:26:00 AM -03",
          " Wed 24 Jan 2024 06:26:36 AM -03",
          " Wed 24 Jan 2024 06:26:45 AM -03",
          " Wed 24 Jan 2024 06:27:47 AM -03",
          " Wed 24 Jan 2024 06:27:50 AM -03",
          " Wed 24 Jan 2024 06:27:51 AM -03",
          " Wed 24 Jan 2024 06:37:13 AM -03",
          " Wed 24 Jan 2024 06:50:06 AM -03",
          " Wed 24 Jan 2024 06:50:07 AM -03",
          " Wed 24 Jan 2024 06:50:08 AM -03",
          " Wed 24 Jan 2024 06:54:26 AM -03",
          " Wed 24 Jan 2024 06:54:29 AM -03",
          " Wed 24 Jan 2024 06:55:04 AM -03",
          " Wed 24 Jan 2024 07:04:03 AM -03",
          " Wed 24 Jan 2024 07:08:11 AM -03",
          " Wed 24 Jan 2024 07:09:57 AM -03",
          " Wed 24 Jan 2024 07:11:20 AM -03",
          " Wed 24 Jan 2024 07:17:28 AM -03",
          " Wed 24 Jan 2024 07:18:23 AM -03",
          " Wed 24 Jan 2024 07:36:21 PM -03",
          " Wed 24 Jan 2024 07:42:16 PM -03",
          " Wed 24 Jan 2024 07:44:58 PM -03",
          " Wed 24 Jan 2024 07:46:17 PM -03",
          " Wed 24 Jan 2024 07:50:40 PM -03",
          " Wed 24 Jan 2024 07:50:41 PM -03",
          " Wed 24 Jan 2024 07:52:10 PM -03",
          " Wed 24 Jan 2024 07:52:39 PM -03",
          " Wed 24 Jan 2024 07:53:09 PM -03",
          " Wed 24 Jan 2024 07:57:48 PM -03",
          " Wed 24 Jan 2024 07:59:37 AM -03",
          " Wed 24 Jan 2024 08:01:23 AM -03",
          " Wed 24 Jan 2024 08:01:46 PM -03",
          " Wed 24 Jan 2024 08:03:09 PM -03",
          " Wed 24 Jan 2024 08:06:39 PM -03",
          " Wed 24 Jan 2024 08:06:40 PM -03",
          " Wed 24 Jan 2024 08:09:45 PM -03",
          " Wed 24 Jan 2024 08:11:19 PM -03",
          " Wed 24 Jan 2024 08:11:20 PM -03",
          " Wed 24 Jan 2024 08:11:21 PM -03",
          " Wed 24 Jan 2024 08:11:22 PM -03",
          " Wed 24 Jan 2024 08:13:25 PM -03",
          " Wed 24 Jan 2024 08:14:42 AM -03",
          " Wed 24 Jan 2024 08:15:38 AM -03",
          " Wed 24 Jan 2024 08:16:17 PM -03",
          " Wed 24 Jan 2024 08:18:06 PM -03",
          " Wed 24 Jan 2024 08:25:12 PM -03",
          " Wed 24 Jan 2024 08:29:53 PM -03",
          " Wed 24 Jan 2024 08:32:12 PM -03",
          " Wed 24 Jan 2024 08:32:25 AM -03",
          " Wed 24 Jan 2024 08:32:26 AM -03",
          " Wed 24 Jan 2024 08:32:31 AM -03",
          " Wed 24 Jan 2024 08:32:38 AM -03",
          " Wed 24 Jan 2024 08:32:41 AM -03",
          " Wed 24 Jan 2024 08:33:34 AM -03",
          " Wed 24 Jan 2024 08:34:08 AM -03",
          " Wed 24 Jan 2024 08:34:28 AM -03",
          " Wed 24 Jan 2024 08:38:34 PM -03",
          " Wed 24 Jan 2024 08:38:35 PM -03",
          " Wed 24 Jan 2024 08:41:59 PM -03",
          " Wed 24 Jan 2024 08:43:23 PM -03",
          " Wed 24 Jan 2024 08:46:08 AM -03",
          " Wed 24 Jan 2024 08:49:13 PM -03",
          " Wed 24 Jan 2024 08:49:41 PM -03",
          " Wed 24 Jan 2024 08:50:25 AM -03",
          " Wed 24 Jan 2024 08:56:02 AM -03",
          " Wed 24 Jan 2024 08:57:07 AM -03",
          " Wed 24 Jan 2024 08:58:58 PM -03",
          " Wed 24 Jan 2024 08:59:07 AM -03",
          " Wed 24 Jan 2024 08:59:13 PM -03",
          " Wed 24 Jan 2024 08:59:14 PM -03",
          " Wed 24 Jan 2024 09:00:12 PM -03",
          " Wed 24 Jan 2024 09:02:41 PM -03",
          " Wed 24 Jan 2024 09:02:42 PM -03",
          " Wed 24 Jan 2024 09:04:43 PM -03",
          " Wed 24 Jan 2024 09:06:15 PM -03",
          " Wed 24 Jan 2024 09:07:59 PM -03",
          " Wed 24 Jan 2024 09:08:48 PM -03",
          " Wed 24 Jan 2024 09:10:45 PM -03",
          " Wed 24 Jan 2024 09:11:12 PM -03",
          " Wed 24 Jan 2024 09:14:54 AM -03",
          " Wed 24 Jan 2024 09:17:51 PM -03",
          " Wed 24 Jan 2024 09:18:32 PM -03",
          " Wed 24 Jan 2024 09:18:57 PM -03",
          " Wed 24 Jan 2024 09:34:17 AM -03",
          " Wed 24 Jan 2024 09:34:26 AM -03",
          " Wed 24 Jan 2024 09:35:56 AM -03",
          " Wed 24 Jan 2024 09:35:57 AM -03",
          " Wed 24 Jan 2024 09:35:58 AM -03",
          " Wed 24 Jan 2024 09:38:09 AM -03",
          " Wed 24 Jan 2024 09:41:15 PM -03",
          " Wed 24 Jan 2024 09:45:33 PM -03",
          " Wed 24 Jan 2024 09:45:34 PM -03",
          " Wed 24 Jan 2024 09:45:35 PM -03",
          " Wed 24 Jan 2024 09:48:03 AM -03",
          " Wed 24 Jan 2024 09:49:20 AM -03",
          " Wed 24 Jan 2024 09:51:28 AM -03",
          " Wed 24 Jan 2024 09:51:29 AM -03",
          " Wed 24 Jan 2024 09:59:09 AM -03",
          " Wed 24 Jan 2024 09:59:45 AM -03",
          " Wed 24 Jan 2024 09:59:46 AM -03",
          " Wed 24 Jan 2024 10:07:19 AM -03",
          " Wed 24 Jan 2024 10:07:22 AM -03",
          " Wed 24 Jan 2024 10:11:16 AM -03",
          " Wed 24 Jan 2024 10:11:17 AM -03",
          " Wed 24 Jan 2024 10:25:34 AM -03",
          " Wed 24 Jan 2024 11:19:18 AM -03",
          " Wed 24 Jan 2024 11:21:13 PM -03",
          " Wed 24 Jan 2024 11:21:14 PM -03",
          " Wed 24 Jul 2024 01:28:41 PM -03",
          " Wed 24 Jul 2024 01:28:42 PM -03",
          " Wed 24 Jul 2024 12:37:38 PM -03",
          " Wed 24 Jul 2024 12:37:39 PM -03",
          " Wed 24 Jul 2024 12:37:45 PM -03",
          " Wed 25 Sep 2024 05:44:00 AM -03",
          " Wed 26 Feb 2025 01:45:29 PM -03",
          " Wed 26 Feb 2025 07:12:58 AM -03",
          " Wed 26 Feb 2025 07:12:59 AM -03",
          " Wed 26 Feb 2025 08:15:03 AM -03",
          " Wed 26 Mar 2025 10:28:32 AM -03",
          " Wed 27 Mar 2024 01:32:05 PM -03",
          " Wed 27 Mar 2024 01:32:08 PM -03",
          " Wed 27 Mar 2024 01:32:09 PM -03",
          " Wed 27 Mar 2024 01:32:10 PM -03",
          " Wed 27 Mar 2024 01:32:12 PM -03",
          " Wed 27 Mar 2024 04:26:06 AM -03",
          " Wed 27 Nov 2024 06:44:44 AM -03",
          " Wed 28 Feb 2024 09:51:32 AM -03",
          " Wed 29 May 2024 10:29:15 PM -03",
          " Wed 29 May 2024 10:29:17 PM -03",
          " Wed 29 May 2024 10:29:25 PM -03",
          " Wed 30 Oct 2024 04:50:59 PM -03",
          " Wed 30 Oct 2024 05:13:01 AM -03",
          " Wed 30 Oct 2024 05:13:03 AM -03",
          " Wed 31 Jan 2024 02:29:53 PM -03",
          " Wed 31 Jan 2024 04:44:09 AM -03",
          " Wed 31 Jan 2024 04:59:14 PM -03",
          " Wed 31 Jan 2024 04:59:15 PM -03",
          " Wed 31 Jan 2024 04:59:20 PM -03",
          " Wed 31 Jan 2024 05:08:42 PM -03",
          " Wed 31 Jan 2024 05:13:53 PM -03",
          " Wed 31 Jan 2024 05:23:43 PM -03",
          " Wed 31 Jan 2024 05:23:53 PM -03",
          " Wed 31 Jan 2024 05:24:13 PM -03",
          " Wed 31 Jan 2024 05:26:35 PM -03",
          " Wed 31 Jan 2024 05:26:47 PM -03",
          " Wed 31 Jan 2024 05:26:56 PM -03",
          " Wed 31 Jan 2024 05:37:14 PM -03",
          " Wed 31 Jan 2024 05:51:43 PM -03",
          " Wed 31 Jan 2024 06:25:49 AM -03",
          " Wed 31 Jan 2024 07:20:48 AM -03",
          " Wed 31 Jan 2024 07:39:10 PM -03",
          " Wed 31 Jul 2024 04:23:28 AM -03",
          " Wed 31 Jul 2024 04:42:08 PM -03",
          " Wed 31 Jul 2024 04:42:10 PM -03"
         ],
         "xaxis": "x",
         "y": {
          "bdata": "AQECAQICAQEBAQIFAgMBAQEBAQECAQEBAQEBAQEBAQEBAQEBAQEBAQMCAQEBAQEBAQEBAQEBAQEDAwMBAQEFAQEBAQEBAQEBAQEBAQIEAQICAQEBBQIBAQEBAQEBAQEBAQIBAQEBAQECAgECAQEBAQEBAQMCAQEBAQEBAQEBAQEBAQECAQEBAQECAQEBAQEBAQEBAQEBAQEBAQEBAQEBAQEBAQEBAQEBAQEBAQIBAQEBAQEBAQEBAQEBAQEBAQEBAQEBAQEBAQECAgEBAgEBAgIBAQEBAQIBAQEBAQIBAQEBAQEBAQEBAQIBAQEBAQIBAQEBAQEBAQEBAgIBAQEBAQEBAQECAQEBAQEBAQEBAQEBAQICAQEBAgEDAwUDAQEBAgUCAwEBAQMBBQEBAQEBAQECAQIBAgECAQEBAQEBAQEBAQIBAgICAQIDAQECAgIBAQEBAgIBAQIDAQEBAQEBAQEBAQIBAQEBAgEBAQEBAQIBAQECAQEBAQEBAQEBAQEBAQEBAQEBAQIBAQEBAQEBAQIBAQECAQEBAQEBAQEBAQEBAgEBAQECAQEBAQEBAQEBAQECAgEDAwEBAQEBAgEBAQEBAQEBAQECAQEBAQEBAwEBAQIBAQEBAQEBAQIBAQECAQEBAQEBAQEBAQEBAQEBAQEBAQEBAQEBAQIBAQEBAQEBAQEBAQEBAQEBAQEBAQEBAQEBAQEBAQEBAQEBAQEBAQEBAQEBAQEBAQEBAQEBAQEBAQEBAQEBAQEBAQEBAQECBQcBAQIBAQEDAQIFCQQFBQoGDAMBAQUBAQEBAQEBAQECAQIBAQEBAQEBAQEBAQEBAQEBAQEBAQQDAQEDBAEBAQEBAQECAQEBAQMBAQEBAQEBAgEBAQEBAQEDAQEDAgEBAQECAQEEAQEBAgEBAQIBAgQBAgEBAQIBAQEBAQEBAQEBAQMBAQEBAQIBAQEBAQEBAQEBAQEBAQEBAQEBAQYFBAEBAgIEAgECAQEBAQEBAQECAQIBAQIBAgEBAQIBAQEBAgEBAQEBAQEDBQMDAgUDAgMCAwICAQEBAQEBAQEBAQEBAQEBAQEBAQEBAQEBAQEBAQEBAQICAQEBAQIBAQEBAQEBAQEBAQEBAQEBAQEBAQEBAQEBAQICAQEBAQEBAQEBAQEBAQEBAQEBAQECAQEBAQEBAQEBAQEBAQEBAQEBAQIBAQEBAQECAQEBAQEBAQEBAQECAQEBAQEBAQEBAQEBAQEBAQEBAQEBAQEBAQEBAQEBAQEBAQEBAQEBAQEBAQEDAQECAQEBAgEBAQEBAQEBAQEBAQEBAQEBAQEBAQEBAQEBAQEBAQEBAQEBAQEBAQEBAQEBAQEBAQEBAQEBAQEBAQEBAQEBAQEBAQEBAQEBAQEBAQEBAQEBAQEBAQEBAQEBAQECAgIBAQEBAQMBAQICAgEBAQEBAQEBAQEBAgMEAQEBAQICBAEBAgIBAQEBAQECAQEBAgEBAQEBAQEBAQEBAQEBAQEBAQEBAQEBAQIBAQMBAQEBAQEBAQEBAQUEAQEBAQEBAQEDAQEBAQEBAQIEAQEBAQEBAQEBAQEDBAIDAQECBAECAQEBAQMDAQEBAgIBAgECAQIDAgICAQEBAQEBAQEBAQEBAQEBAQEBAQEBAQEBAQEBAQEBAQEDBAQDCQQBBAEBAQEBAQEBAQEBAQEBAQEBAQMDAQMBAQECBAEBAQEBAQECAQEBAQEBAQEBAQIFAwEBAgEBAQECAQEBAQEBAQEBAQEBAQEBAQECAQMBAgEBAQEBAQEBAQEBAQEBAQECAwEBAgEBAQECAQEBAQIBAQEBAQEBAQEBAgEBAQEBAQEBAQEBAQEBAQEBAQEBAQEBAQEBAQECAgEBAQEBAQEBAQEBAQEBAQEBAQIBAQEBAgICAQEBAwICAQQBAQEBAQEBAQEBAQEBAQIBAQEBAQEBAQEBAgEBAQIBAQECAQEBAQEBAQEBAQEBAQEBAQEBAQEBAQEBAQEBAQEBAQEBAQEBAgEBAQEBAQEBAQEBAQEBAQEBAgEBAQEBAQEBAQECAwEDAQEBAQEBAQECAgEBAQIBAQEBAQEBAQEBAQEBAQEBAQEBAQEBAQEBAgEB",
          "dtype": "i1"
         },
         "yaxis": "y"
        }
       ],
       "layout": {
        "barmode": "relative",
        "legend": {
         "tracegroupgap": 0
        },
        "margin": {
         "t": 60
        },
        "template": {
         "data": {
          "bar": [
           {
            "error_x": {
             "color": "#2a3f5f"
            },
            "error_y": {
             "color": "#2a3f5f"
            },
            "marker": {
             "line": {
              "color": "#E5ECF6",
              "width": 0.5
             },
             "pattern": {
              "fillmode": "overlay",
              "size": 10,
              "solidity": 0.2
             }
            },
            "type": "bar"
           }
          ],
          "barpolar": [
           {
            "marker": {
             "line": {
              "color": "#E5ECF6",
              "width": 0.5
             },
             "pattern": {
              "fillmode": "overlay",
              "size": 10,
              "solidity": 0.2
             }
            },
            "type": "barpolar"
           }
          ],
          "carpet": [
           {
            "aaxis": {
             "endlinecolor": "#2a3f5f",
             "gridcolor": "white",
             "linecolor": "white",
             "minorgridcolor": "white",
             "startlinecolor": "#2a3f5f"
            },
            "baxis": {
             "endlinecolor": "#2a3f5f",
             "gridcolor": "white",
             "linecolor": "white",
             "minorgridcolor": "white",
             "startlinecolor": "#2a3f5f"
            },
            "type": "carpet"
           }
          ],
          "choropleth": [
           {
            "colorbar": {
             "outlinewidth": 0,
             "ticks": ""
            },
            "type": "choropleth"
           }
          ],
          "contour": [
           {
            "colorbar": {
             "outlinewidth": 0,
             "ticks": ""
            },
            "colorscale": [
             [
              0,
              "#0d0887"
             ],
             [
              0.1111111111111111,
              "#46039f"
             ],
             [
              0.2222222222222222,
              "#7201a8"
             ],
             [
              0.3333333333333333,
              "#9c179e"
             ],
             [
              0.4444444444444444,
              "#bd3786"
             ],
             [
              0.5555555555555556,
              "#d8576b"
             ],
             [
              0.6666666666666666,
              "#ed7953"
             ],
             [
              0.7777777777777778,
              "#fb9f3a"
             ],
             [
              0.8888888888888888,
              "#fdca26"
             ],
             [
              1,
              "#f0f921"
             ]
            ],
            "type": "contour"
           }
          ],
          "contourcarpet": [
           {
            "colorbar": {
             "outlinewidth": 0,
             "ticks": ""
            },
            "type": "contourcarpet"
           }
          ],
          "heatmap": [
           {
            "colorbar": {
             "outlinewidth": 0,
             "ticks": ""
            },
            "colorscale": [
             [
              0,
              "#0d0887"
             ],
             [
              0.1111111111111111,
              "#46039f"
             ],
             [
              0.2222222222222222,
              "#7201a8"
             ],
             [
              0.3333333333333333,
              "#9c179e"
             ],
             [
              0.4444444444444444,
              "#bd3786"
             ],
             [
              0.5555555555555556,
              "#d8576b"
             ],
             [
              0.6666666666666666,
              "#ed7953"
             ],
             [
              0.7777777777777778,
              "#fb9f3a"
             ],
             [
              0.8888888888888888,
              "#fdca26"
             ],
             [
              1,
              "#f0f921"
             ]
            ],
            "type": "heatmap"
           }
          ],
          "histogram": [
           {
            "marker": {
             "pattern": {
              "fillmode": "overlay",
              "size": 10,
              "solidity": 0.2
             }
            },
            "type": "histogram"
           }
          ],
          "histogram2d": [
           {
            "colorbar": {
             "outlinewidth": 0,
             "ticks": ""
            },
            "colorscale": [
             [
              0,
              "#0d0887"
             ],
             [
              0.1111111111111111,
              "#46039f"
             ],
             [
              0.2222222222222222,
              "#7201a8"
             ],
             [
              0.3333333333333333,
              "#9c179e"
             ],
             [
              0.4444444444444444,
              "#bd3786"
             ],
             [
              0.5555555555555556,
              "#d8576b"
             ],
             [
              0.6666666666666666,
              "#ed7953"
             ],
             [
              0.7777777777777778,
              "#fb9f3a"
             ],
             [
              0.8888888888888888,
              "#fdca26"
             ],
             [
              1,
              "#f0f921"
             ]
            ],
            "type": "histogram2d"
           }
          ],
          "histogram2dcontour": [
           {
            "colorbar": {
             "outlinewidth": 0,
             "ticks": ""
            },
            "colorscale": [
             [
              0,
              "#0d0887"
             ],
             [
              0.1111111111111111,
              "#46039f"
             ],
             [
              0.2222222222222222,
              "#7201a8"
             ],
             [
              0.3333333333333333,
              "#9c179e"
             ],
             [
              0.4444444444444444,
              "#bd3786"
             ],
             [
              0.5555555555555556,
              "#d8576b"
             ],
             [
              0.6666666666666666,
              "#ed7953"
             ],
             [
              0.7777777777777778,
              "#fb9f3a"
             ],
             [
              0.8888888888888888,
              "#fdca26"
             ],
             [
              1,
              "#f0f921"
             ]
            ],
            "type": "histogram2dcontour"
           }
          ],
          "mesh3d": [
           {
            "colorbar": {
             "outlinewidth": 0,
             "ticks": ""
            },
            "type": "mesh3d"
           }
          ],
          "parcoords": [
           {
            "line": {
             "colorbar": {
              "outlinewidth": 0,
              "ticks": ""
             }
            },
            "type": "parcoords"
           }
          ],
          "pie": [
           {
            "automargin": true,
            "type": "pie"
           }
          ],
          "scatter": [
           {
            "fillpattern": {
             "fillmode": "overlay",
             "size": 10,
             "solidity": 0.2
            },
            "type": "scatter"
           }
          ],
          "scatter3d": [
           {
            "line": {
             "colorbar": {
              "outlinewidth": 0,
              "ticks": ""
             }
            },
            "marker": {
             "colorbar": {
              "outlinewidth": 0,
              "ticks": ""
             }
            },
            "type": "scatter3d"
           }
          ],
          "scattercarpet": [
           {
            "marker": {
             "colorbar": {
              "outlinewidth": 0,
              "ticks": ""
             }
            },
            "type": "scattercarpet"
           }
          ],
          "scattergeo": [
           {
            "marker": {
             "colorbar": {
              "outlinewidth": 0,
              "ticks": ""
             }
            },
            "type": "scattergeo"
           }
          ],
          "scattergl": [
           {
            "marker": {
             "colorbar": {
              "outlinewidth": 0,
              "ticks": ""
             }
            },
            "type": "scattergl"
           }
          ],
          "scattermap": [
           {
            "marker": {
             "colorbar": {
              "outlinewidth": 0,
              "ticks": ""
             }
            },
            "type": "scattermap"
           }
          ],
          "scattermapbox": [
           {
            "marker": {
             "colorbar": {
              "outlinewidth": 0,
              "ticks": ""
             }
            },
            "type": "scattermapbox"
           }
          ],
          "scatterpolar": [
           {
            "marker": {
             "colorbar": {
              "outlinewidth": 0,
              "ticks": ""
             }
            },
            "type": "scatterpolar"
           }
          ],
          "scatterpolargl": [
           {
            "marker": {
             "colorbar": {
              "outlinewidth": 0,
              "ticks": ""
             }
            },
            "type": "scatterpolargl"
           }
          ],
          "scatterternary": [
           {
            "marker": {
             "colorbar": {
              "outlinewidth": 0,
              "ticks": ""
             }
            },
            "type": "scatterternary"
           }
          ],
          "surface": [
           {
            "colorbar": {
             "outlinewidth": 0,
             "ticks": ""
            },
            "colorscale": [
             [
              0,
              "#0d0887"
             ],
             [
              0.1111111111111111,
              "#46039f"
             ],
             [
              0.2222222222222222,
              "#7201a8"
             ],
             [
              0.3333333333333333,
              "#9c179e"
             ],
             [
              0.4444444444444444,
              "#bd3786"
             ],
             [
              0.5555555555555556,
              "#d8576b"
             ],
             [
              0.6666666666666666,
              "#ed7953"
             ],
             [
              0.7777777777777778,
              "#fb9f3a"
             ],
             [
              0.8888888888888888,
              "#fdca26"
             ],
             [
              1,
              "#f0f921"
             ]
            ],
            "type": "surface"
           }
          ],
          "table": [
           {
            "cells": {
             "fill": {
              "color": "#EBF0F8"
             },
             "line": {
              "color": "white"
             }
            },
            "header": {
             "fill": {
              "color": "#C8D4E3"
             },
             "line": {
              "color": "white"
             }
            },
            "type": "table"
           }
          ]
         },
         "layout": {
          "annotationdefaults": {
           "arrowcolor": "#2a3f5f",
           "arrowhead": 0,
           "arrowwidth": 1
          },
          "autotypenumbers": "strict",
          "coloraxis": {
           "colorbar": {
            "outlinewidth": 0,
            "ticks": ""
           }
          },
          "colorscale": {
           "diverging": [
            [
             0,
             "#8e0152"
            ],
            [
             0.1,
             "#c51b7d"
            ],
            [
             0.2,
             "#de77ae"
            ],
            [
             0.3,
             "#f1b6da"
            ],
            [
             0.4,
             "#fde0ef"
            ],
            [
             0.5,
             "#f7f7f7"
            ],
            [
             0.6,
             "#e6f5d0"
            ],
            [
             0.7,
             "#b8e186"
            ],
            [
             0.8,
             "#7fbc41"
            ],
            [
             0.9,
             "#4d9221"
            ],
            [
             1,
             "#276419"
            ]
           ],
           "sequential": [
            [
             0,
             "#0d0887"
            ],
            [
             0.1111111111111111,
             "#46039f"
            ],
            [
             0.2222222222222222,
             "#7201a8"
            ],
            [
             0.3333333333333333,
             "#9c179e"
            ],
            [
             0.4444444444444444,
             "#bd3786"
            ],
            [
             0.5555555555555556,
             "#d8576b"
            ],
            [
             0.6666666666666666,
             "#ed7953"
            ],
            [
             0.7777777777777778,
             "#fb9f3a"
            ],
            [
             0.8888888888888888,
             "#fdca26"
            ],
            [
             1,
             "#f0f921"
            ]
           ],
           "sequentialminus": [
            [
             0,
             "#0d0887"
            ],
            [
             0.1111111111111111,
             "#46039f"
            ],
            [
             0.2222222222222222,
             "#7201a8"
            ],
            [
             0.3333333333333333,
             "#9c179e"
            ],
            [
             0.4444444444444444,
             "#bd3786"
            ],
            [
             0.5555555555555556,
             "#d8576b"
            ],
            [
             0.6666666666666666,
             "#ed7953"
            ],
            [
             0.7777777777777778,
             "#fb9f3a"
            ],
            [
             0.8888888888888888,
             "#fdca26"
            ],
            [
             1,
             "#f0f921"
            ]
           ]
          },
          "colorway": [
           "#636efa",
           "#EF553B",
           "#00cc96",
           "#ab63fa",
           "#FFA15A",
           "#19d3f3",
           "#FF6692",
           "#B6E880",
           "#FF97FF",
           "#FECB52"
          ],
          "font": {
           "color": "#2a3f5f"
          },
          "geo": {
           "bgcolor": "white",
           "lakecolor": "white",
           "landcolor": "#E5ECF6",
           "showlakes": true,
           "showland": true,
           "subunitcolor": "white"
          },
          "hoverlabel": {
           "align": "left"
          },
          "hovermode": "closest",
          "mapbox": {
           "style": "light"
          },
          "paper_bgcolor": "white",
          "plot_bgcolor": "#E5ECF6",
          "polar": {
           "angularaxis": {
            "gridcolor": "white",
            "linecolor": "white",
            "ticks": ""
           },
           "bgcolor": "#E5ECF6",
           "radialaxis": {
            "gridcolor": "white",
            "linecolor": "white",
            "ticks": ""
           }
          },
          "scene": {
           "xaxis": {
            "backgroundcolor": "#E5ECF6",
            "gridcolor": "white",
            "gridwidth": 2,
            "linecolor": "white",
            "showbackground": true,
            "ticks": "",
            "zerolinecolor": "white"
           },
           "yaxis": {
            "backgroundcolor": "#E5ECF6",
            "gridcolor": "white",
            "gridwidth": 2,
            "linecolor": "white",
            "showbackground": true,
            "ticks": "",
            "zerolinecolor": "white"
           },
           "zaxis": {
            "backgroundcolor": "#E5ECF6",
            "gridcolor": "white",
            "gridwidth": 2,
            "linecolor": "white",
            "showbackground": true,
            "ticks": "",
            "zerolinecolor": "white"
           }
          },
          "shapedefaults": {
           "line": {
            "color": "#2a3f5f"
           }
          },
          "ternary": {
           "aaxis": {
            "gridcolor": "white",
            "linecolor": "white",
            "ticks": ""
           },
           "baxis": {
            "gridcolor": "white",
            "linecolor": "white",
            "ticks": ""
           },
           "bgcolor": "#E5ECF6",
           "caxis": {
            "gridcolor": "white",
            "linecolor": "white",
            "ticks": ""
           }
          },
          "title": {
           "x": 0.05
          },
          "xaxis": {
           "automargin": true,
           "gridcolor": "white",
           "linecolor": "white",
           "ticks": "",
           "title": {
            "standoff": 15
           },
           "zerolinecolor": "white",
           "zerolinewidth": 2
          },
          "yaxis": {
           "automargin": true,
           "gridcolor": "white",
           "linecolor": "white",
           "ticks": "",
           "title": {
            "standoff": 15
           },
           "zerolinecolor": "white",
           "zerolinewidth": 2
          }
         }
        },
        "xaxis": {
         "anchor": "y",
         "domain": [
          0,
          1
         ],
         "title": {
          "text": "Sig_Data"
         }
        },
        "yaxis": {
         "anchor": "x",
         "domain": [
          0,
          1
         ],
         "title": {
          "text": "Name"
         }
        }
       }
      }
     },
     "metadata": {},
     "output_type": "display_data"
    }
   ],
   "source": [
    "df['Sig_Data'] = df.loc[:, 'Signature'].str.split(',').str[1]\n",
    "\n",
    "df_aux = df.loc[:, ['Name', 'Sig_Data']].groupby('Sig_Data').count().reset_index()\n",
    "\n",
    "fig = px.bar(df_aux, x='Sig_Data', y='Name')\n",
    "\n",
    "fig.show()"
   ]
  }
 ],
 "metadata": {
  "kernelspec": {
   "display_name": "git",
   "language": "python",
   "name": "python3"
  },
  "language_info": {
   "codemirror_mode": {
    "name": "ipython",
    "version": 3
   },
   "file_extension": ".py",
   "mimetype": "text/x-python",
   "name": "python",
   "nbconvert_exporter": "python",
   "pygments_lexer": "ipython3",
   "version": "3.13.5"
  }
 },
 "nbformat": 4,
 "nbformat_minor": 5
}
