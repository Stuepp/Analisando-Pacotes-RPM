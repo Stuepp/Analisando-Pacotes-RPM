{
 "cells": [
  {
   "cell_type": "markdown",
   "id": "cb4ead72",
   "metadata": {},
   "source": [
    "# Importação das bibliotecas"
   ]
  },
  {
   "cell_type": "code",
   "execution_count": 3,
   "id": "f85a67d0",
   "metadata": {},
   "outputs": [],
   "source": [
    "import pandas as pd\n",
    "#import plotly.express as px"
   ]
  },
  {
   "cell_type": "markdown",
   "id": "07c6a3f3",
   "metadata": {},
   "source": [
    "# Importação dos dados"
   ]
  },
  {
   "cell_type": "code",
   "execution_count": 4,
   "id": "ccf7f59c",
   "metadata": {},
   "outputs": [],
   "source": [
    "df = pd.read_csv('rpm_all_info.csv')"
   ]
  },
  {
   "cell_type": "markdown",
   "id": "7aad1584",
   "metadata": {},
   "source": [
    "# Dos pacotes instalados."
   ]
  },
  {
   "cell_type": "markdown",
   "id": "aabb5090",
   "metadata": {},
   "source": [
    "## Quantos pacotes são assinados, quantos não são e total de pacotes?"
   ]
  },
  {
   "cell_type": "code",
   "execution_count": 8,
   "id": "d7e63b11",
   "metadata": {},
   "outputs": [
    {
     "name": "stdout",
     "output_type": "stream",
     "text": [
      "Pacotes assinados: 4\n",
      "Pacotes não assinados 2022\n",
      "Total de pacotes: 2026\n"
     ]
    }
   ],
   "source": [
    "row_condition = df.loc[:, 'Signature'].str.contains('none')\n",
    "pacotes_assinados = df.loc[row_condition, 'Signature'].count()\n",
    "pacotes_nao_assinados = df.loc[~row_condition, 'Signature'].count()\n",
    "\n",
    "print(f'Pacotes assinados: {pacotes_assinados}\\nPacotes não assinados {pacotes_nao_assinados}')\n",
    "print(f'Total de pacotes: {df.loc[:,'Signature'].count()}')"
   ]
  },
  {
   "cell_type": "markdown",
   "id": "02a5a8bf",
   "metadata": {},
   "source": [
    "## Quais são os algoritmos criptográficos utilizados e seus tamanhos?\n",
    "### Na assinatura"
   ]
  },
  {
   "cell_type": "code",
   "execution_count": 32,
   "id": "34948706",
   "metadata": {},
   "outputs": [
    {
     "name": "stdout",
     "output_type": "stream",
     "text": [
      "Os algoritmos utilizados, junto com seu tamanho são:  ['RSA/SHA256' '(none)' 'RSA/SHA512']\n",
      "None indica que não houve uma assinatura\n"
     ]
    }
   ],
   "source": [
    "df['Signature_Alg_Size'] = df.loc[:,'Signature'].str.split(',').str[0]\n",
    "\n",
    "print(f'Os algoritmos utilizados, junto com seu tamanho são:  {df['Signature_Alg_Size'].unique()}')\n",
    "print('None indica que não houve uma assinatura')"
   ]
  }
 ],
 "metadata": {
  "kernelspec": {
   "display_name": "git",
   "language": "python",
   "name": "python3"
  },
  "language_info": {
   "codemirror_mode": {
    "name": "ipython",
    "version": 3
   },
   "file_extension": ".py",
   "mimetype": "text/x-python",
   "name": "python",
   "nbconvert_exporter": "python",
   "pygments_lexer": "ipython3",
   "version": "3.13.5"
  }
 },
 "nbformat": 4,
 "nbformat_minor": 5
}
